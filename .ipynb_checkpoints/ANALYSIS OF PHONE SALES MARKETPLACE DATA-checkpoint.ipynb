{
 "cells": [
  {
   "cell_type": "markdown",
   "metadata": {},
   "source": [
    "# Exploratory Analysis\n",
    "\n",
    "### importing libraries "
   ]
  },
  {
   "cell_type": "code",
   "execution_count": 1,
   "metadata": {},
   "outputs": [],
   "source": [
    "import numpy as np\n",
    "import pandas as pd \n",
    "import matplotlib.pyplot as plt\n",
    "import seaborn as sns\n",
    "%matplotlib inline\n",
    "from sklearn import *\n",
    "from sklearn.preprocessing import StandardScaler\n",
    "from scipy import stats\n"
   ]
  },
  {
   "cell_type": "markdown",
   "metadata": {},
   "source": [
    "### loading dataset"
   ]
  },
  {
   "cell_type": "code",
   "execution_count": 2,
   "metadata": {},
   "outputs": [
    {
     "data": {
      "text/html": [
       "<div>\n",
       "<style scoped>\n",
       "    .dataframe tbody tr th:only-of-type {\n",
       "        vertical-align: middle;\n",
       "    }\n",
       "\n",
       "    .dataframe tbody tr th {\n",
       "        vertical-align: top;\n",
       "    }\n",
       "\n",
       "    .dataframe thead th {\n",
       "        text-align: right;\n",
       "    }\n",
       "</style>\n",
       "<table border=\"1\" class=\"dataframe\">\n",
       "  <thead>\n",
       "    <tr style=\"text-align: right;\">\n",
       "      <th></th>\n",
       "      <th>sku_name</th>\n",
       "      <th>product_id</th>\n",
       "      <th>merchant_code</th>\n",
       "      <th>merchant_badge</th>\n",
       "      <th>product_type</th>\n",
       "      <th>merchant_city</th>\n",
       "      <th>cod</th>\n",
       "      <th>price</th>\n",
       "      <th>stock</th>\n",
       "      <th>daily_gmv</th>\n",
       "      <th>daily_sold</th>\n",
       "      <th>daily_view</th>\n",
       "      <th>rating</th>\n",
       "      <th>total_review</th>\n",
       "      <th>total_sold</th>\n",
       "    </tr>\n",
       "    <tr>\n",
       "      <th>date</th>\n",
       "      <th></th>\n",
       "      <th></th>\n",
       "      <th></th>\n",
       "      <th></th>\n",
       "      <th></th>\n",
       "      <th></th>\n",
       "      <th></th>\n",
       "      <th></th>\n",
       "      <th></th>\n",
       "      <th></th>\n",
       "      <th></th>\n",
       "      <th></th>\n",
       "      <th></th>\n",
       "      <th></th>\n",
       "      <th></th>\n",
       "    </tr>\n",
       "  </thead>\n",
       "  <tbody>\n",
       "    <tr>\n",
       "      <th>2020-03-11</th>\n",
       "      <td>HUAWEI NOVA 5T RAM 8GB INTERNAL 128GB</td>\n",
       "      <td>E1</td>\n",
       "      <td>1.0</td>\n",
       "      <td>PM</td>\n",
       "      <td>Huawei nova 5T</td>\n",
       "      <td>Kota Kediri</td>\n",
       "      <td>False</td>\n",
       "      <td>4500000</td>\n",
       "      <td>1</td>\n",
       "      <td>0</td>\n",
       "      <td>0</td>\n",
       "      <td>0</td>\n",
       "      <td>95</td>\n",
       "      <td>37</td>\n",
       "      <td>74</td>\n",
       "    </tr>\n",
       "    <tr>\n",
       "      <th>2020-03-26</th>\n",
       "      <td>Huawei Nova 5T (8GB/128GB) - Crush Green</td>\n",
       "      <td>F1</td>\n",
       "      <td>2.0</td>\n",
       "      <td>OS</td>\n",
       "      <td>Huawei nova 5T</td>\n",
       "      <td>Kota Administrasi Jakarta Utara</td>\n",
       "      <td>False</td>\n",
       "      <td>4999000</td>\n",
       "      <td>5</td>\n",
       "      <td>0</td>\n",
       "      <td>0</td>\n",
       "      <td>0</td>\n",
       "      <td>0</td>\n",
       "      <td>0</td>\n",
       "      <td>2</td>\n",
       "    </tr>\n",
       "    <tr>\n",
       "      <th>2020-03-23</th>\n",
       "      <td>HUAWEI NOVA 5T RAM 8/128 GARANSI RESMI HUAWEI ...</td>\n",
       "      <td>F2</td>\n",
       "      <td>3.0</td>\n",
       "      <td>PM</td>\n",
       "      <td>Huawei nova 5T</td>\n",
       "      <td>Kota Administrasi Jakarta Barat</td>\n",
       "      <td>False</td>\n",
       "      <td>4589900</td>\n",
       "      <td>16</td>\n",
       "      <td>0</td>\n",
       "      <td>0</td>\n",
       "      <td>0</td>\n",
       "      <td>96</td>\n",
       "      <td>12</td>\n",
       "      <td>19</td>\n",
       "    </tr>\n",
       "    <tr>\n",
       "      <th>2020-04-29</th>\n",
       "      <td>HUAWEI NOVA 5T RAM 8/128GB GARANSI RESMI HUAWE...</td>\n",
       "      <td>E2</td>\n",
       "      <td>4.0</td>\n",
       "      <td>OS</td>\n",
       "      <td>Huawei nova 5T</td>\n",
       "      <td>Kota Surabaya</td>\n",
       "      <td>False</td>\n",
       "      <td>4698500</td>\n",
       "      <td>5</td>\n",
       "      <td>0</td>\n",
       "      <td>0</td>\n",
       "      <td>0</td>\n",
       "      <td>99</td>\n",
       "      <td>42</td>\n",
       "      <td>63</td>\n",
       "    </tr>\n",
       "    <tr>\n",
       "      <th>2020-04-15</th>\n",
       "      <td>nokia 3310 reborn</td>\n",
       "      <td>C1</td>\n",
       "      <td>5.0</td>\n",
       "      <td>RM</td>\n",
       "      <td>Nokia 1</td>\n",
       "      <td>Kab. Bangkalan</td>\n",
       "      <td>True</td>\n",
       "      <td>1000000</td>\n",
       "      <td>999999</td>\n",
       "      <td>0</td>\n",
       "      <td>0</td>\n",
       "      <td>3</td>\n",
       "      <td>100</td>\n",
       "      <td>18</td>\n",
       "      <td>82</td>\n",
       "    </tr>\n",
       "  </tbody>\n",
       "</table>\n",
       "</div>"
      ],
      "text/plain": [
       "                                                     sku_name product_id  \\\n",
       "date                                                                       \n",
       "2020-03-11              HUAWEI NOVA 5T RAM 8GB INTERNAL 128GB         E1   \n",
       "2020-03-26           Huawei Nova 5T (8GB/128GB) - Crush Green         F1   \n",
       "2020-03-23  HUAWEI NOVA 5T RAM 8/128 GARANSI RESMI HUAWEI ...         F2   \n",
       "2020-04-29  HUAWEI NOVA 5T RAM 8/128GB GARANSI RESMI HUAWE...         E2   \n",
       "2020-04-15                                  nokia 3310 reborn         C1   \n",
       "\n",
       "            merchant_code merchant_badge    product_type  \\\n",
       "date                                                       \n",
       "2020-03-11            1.0             PM  Huawei nova 5T   \n",
       "2020-03-26            2.0             OS  Huawei nova 5T   \n",
       "2020-03-23            3.0             PM  Huawei nova 5T   \n",
       "2020-04-29            4.0             OS  Huawei nova 5T   \n",
       "2020-04-15            5.0             RM         Nokia 1   \n",
       "\n",
       "                              merchant_city    cod    price   stock  \\\n",
       "date                                                                  \n",
       "2020-03-11                      Kota Kediri  False  4500000       1   \n",
       "2020-03-26  Kota Administrasi Jakarta Utara  False  4999000       5   \n",
       "2020-03-23  Kota Administrasi Jakarta Barat  False  4589900      16   \n",
       "2020-04-29                    Kota Surabaya  False  4698500       5   \n",
       "2020-04-15                   Kab. Bangkalan   True  1000000  999999   \n",
       "\n",
       "            daily_gmv  daily_sold  daily_view  rating  total_review  \\\n",
       "date                                                                  \n",
       "2020-03-11          0           0           0      95            37   \n",
       "2020-03-26          0           0           0       0             0   \n",
       "2020-03-23          0           0           0      96            12   \n",
       "2020-04-29          0           0           0      99            42   \n",
       "2020-04-15          0           0           3     100            18   \n",
       "\n",
       "            total_sold  \n",
       "date                    \n",
       "2020-03-11          74  \n",
       "2020-03-26           2  \n",
       "2020-03-23          19  \n",
       "2020-04-29          63  \n",
       "2020-04-15          82  "
      ]
     },
     "execution_count": 2,
     "metadata": {},
     "output_type": "execute_result"
    }
   ],
   "source": [
    "df=pd.read_csv(\"marketplace.csv\",index_col=\"date\",parse_dates=True)\n",
    "# loading the date column as index to the dataframe and parsing it as well\n",
    "df.head()"
   ]
  },
  {
   "cell_type": "markdown",
   "metadata": {},
   "source": [
    "### initial description"
   ]
  },
  {
   "cell_type": "code",
   "execution_count": 3,
   "metadata": {},
   "outputs": [
    {
     "data": {
      "text/html": [
       "<div>\n",
       "<style scoped>\n",
       "    .dataframe tbody tr th:only-of-type {\n",
       "        vertical-align: middle;\n",
       "    }\n",
       "\n",
       "    .dataframe tbody tr th {\n",
       "        vertical-align: top;\n",
       "    }\n",
       "\n",
       "    .dataframe thead th {\n",
       "        text-align: right;\n",
       "    }\n",
       "</style>\n",
       "<table border=\"1\" class=\"dataframe\">\n",
       "  <thead>\n",
       "    <tr style=\"text-align: right;\">\n",
       "      <th></th>\n",
       "      <th>merchant_code</th>\n",
       "      <th>price</th>\n",
       "      <th>stock</th>\n",
       "      <th>daily_gmv</th>\n",
       "      <th>daily_sold</th>\n",
       "      <th>daily_view</th>\n",
       "      <th>rating</th>\n",
       "      <th>total_review</th>\n",
       "      <th>total_sold</th>\n",
       "    </tr>\n",
       "  </thead>\n",
       "  <tbody>\n",
       "    <tr>\n",
       "      <th>count</th>\n",
       "      <td>26007.000000</td>\n",
       "      <td>2.601400e+04</td>\n",
       "      <td>26014.000000</td>\n",
       "      <td>2.601400e+04</td>\n",
       "      <td>26014.000000</td>\n",
       "      <td>26014.000000</td>\n",
       "      <td>26014.000000</td>\n",
       "      <td>26014.000000</td>\n",
       "      <td>26014.000000</td>\n",
       "    </tr>\n",
       "    <tr>\n",
       "      <th>mean</th>\n",
       "      <td>1562.011112</td>\n",
       "      <td>3.890569e+06</td>\n",
       "      <td>344553.702083</td>\n",
       "      <td>1.582145e+06</td>\n",
       "      <td>0.737257</td>\n",
       "      <td>58.814331</td>\n",
       "      <td>98.339279</td>\n",
       "      <td>46.343969</td>\n",
       "      <td>152.429807</td>\n",
       "    </tr>\n",
       "    <tr>\n",
       "      <th>std</th>\n",
       "      <td>1041.170081</td>\n",
       "      <td>3.868790e+06</td>\n",
       "      <td>474104.795100</td>\n",
       "      <td>1.603716e+07</td>\n",
       "      <td>7.453432</td>\n",
       "      <td>473.091001</td>\n",
       "      <td>5.485507</td>\n",
       "      <td>91.149600</td>\n",
       "      <td>321.367828</td>\n",
       "    </tr>\n",
       "    <tr>\n",
       "      <th>min</th>\n",
       "      <td>1.000000</td>\n",
       "      <td>5.350000e+05</td>\n",
       "      <td>0.000000</td>\n",
       "      <td>-2.342700e+08</td>\n",
       "      <td>-82.000000</td>\n",
       "      <td>0.000000</td>\n",
       "      <td>0.000000</td>\n",
       "      <td>0.000000</td>\n",
       "      <td>0.000000</td>\n",
       "    </tr>\n",
       "    <tr>\n",
       "      <th>25%</th>\n",
       "      <td>854.000000</td>\n",
       "      <td>1.770000e+06</td>\n",
       "      <td>4.000000</td>\n",
       "      <td>0.000000e+00</td>\n",
       "      <td>0.000000</td>\n",
       "      <td>2.000000</td>\n",
       "      <td>98.000000</td>\n",
       "      <td>10.000000</td>\n",
       "      <td>27.000000</td>\n",
       "    </tr>\n",
       "    <tr>\n",
       "      <th>50%</th>\n",
       "      <td>1252.000000</td>\n",
       "      <td>2.599999e+06</td>\n",
       "      <td>37.000000</td>\n",
       "      <td>0.000000e+00</td>\n",
       "      <td>0.000000</td>\n",
       "      <td>5.000000</td>\n",
       "      <td>100.000000</td>\n",
       "      <td>24.000000</td>\n",
       "      <td>63.000000</td>\n",
       "    </tr>\n",
       "    <tr>\n",
       "      <th>75%</th>\n",
       "      <td>2287.000000</td>\n",
       "      <td>4.093925e+06</td>\n",
       "      <td>999972.000000</td>\n",
       "      <td>0.000000e+00</td>\n",
       "      <td>0.000000</td>\n",
       "      <td>21.000000</td>\n",
       "      <td>100.000000</td>\n",
       "      <td>44.000000</td>\n",
       "      <td>144.000000</td>\n",
       "    </tr>\n",
       "    <tr>\n",
       "      <th>max</th>\n",
       "      <td>4247.000000</td>\n",
       "      <td>5.000000e+07</td>\n",
       "      <td>999999.000000</td>\n",
       "      <td>9.415350e+08</td>\n",
       "      <td>441.000000</td>\n",
       "      <td>38993.000000</td>\n",
       "      <td>100.000000</td>\n",
       "      <td>2842.000000</td>\n",
       "      <td>7724.000000</td>\n",
       "    </tr>\n",
       "  </tbody>\n",
       "</table>\n",
       "</div>"
      ],
      "text/plain": [
       "       merchant_code         price          stock     daily_gmv    daily_sold  \\\n",
       "count   26007.000000  2.601400e+04   26014.000000  2.601400e+04  26014.000000   \n",
       "mean     1562.011112  3.890569e+06  344553.702083  1.582145e+06      0.737257   \n",
       "std      1041.170081  3.868790e+06  474104.795100  1.603716e+07      7.453432   \n",
       "min         1.000000  5.350000e+05       0.000000 -2.342700e+08    -82.000000   \n",
       "25%       854.000000  1.770000e+06       4.000000  0.000000e+00      0.000000   \n",
       "50%      1252.000000  2.599999e+06      37.000000  0.000000e+00      0.000000   \n",
       "75%      2287.000000  4.093925e+06  999972.000000  0.000000e+00      0.000000   \n",
       "max      4247.000000  5.000000e+07  999999.000000  9.415350e+08    441.000000   \n",
       "\n",
       "         daily_view        rating  total_review    total_sold  \n",
       "count  26014.000000  26014.000000  26014.000000  26014.000000  \n",
       "mean      58.814331     98.339279     46.343969    152.429807  \n",
       "std      473.091001      5.485507     91.149600    321.367828  \n",
       "min        0.000000      0.000000      0.000000      0.000000  \n",
       "25%        2.000000     98.000000     10.000000     27.000000  \n",
       "50%        5.000000    100.000000     24.000000     63.000000  \n",
       "75%       21.000000    100.000000     44.000000    144.000000  \n",
       "max    38993.000000    100.000000   2842.000000   7724.000000  "
      ]
     },
     "execution_count": 3,
     "metadata": {},
     "output_type": "execute_result"
    }
   ],
   "source": [
    "df.describe()"
   ]
  },
  {
   "cell_type": "code",
   "execution_count": 4,
   "metadata": {},
   "outputs": [
    {
     "data": {
      "text/plain": [
       "sku_name          0\n",
       "product_id        0\n",
       "merchant_code     7\n",
       "merchant_badge    0\n",
       "product_type      0\n",
       "merchant_city     0\n",
       "cod               0\n",
       "price             0\n",
       "stock             0\n",
       "daily_gmv         0\n",
       "daily_sold        0\n",
       "daily_view        0\n",
       "rating            0\n",
       "total_review      0\n",
       "total_sold        0\n",
       "dtype: int64"
      ]
     },
     "execution_count": 4,
     "metadata": {},
     "output_type": "execute_result"
    }
   ],
   "source": [
    "df.isnull().sum()"
   ]
  },
  {
   "cell_type": "code",
   "execution_count": 5,
   "metadata": {},
   "outputs": [
    {
     "data": {
      "text/plain": [
       "<AxesSubplot:ylabel='date'>"
      ]
     },
     "execution_count": 5,
     "metadata": {},
     "output_type": "execute_result"
    },
    {
     "data": {
      "image/png": "[encoded data removed]",
      "text/plain": [
       "<Figure size 432x288 with 2 Axes>"
      ]
     },
     "metadata": {
      "needs_background": "light"
     },
     "output_type": "display_data"
    }
   ],
   "source": [
    "# plotting heat map to show null values\n",
    "sns.heatmap(df.isnull(),cmap='viridis') ## highly clean dataset with only 7 null values in a single column"
   ]
  },
  {
   "cell_type": "markdown",
   "metadata": {},
   "source": [
    "### No columns with dominating NULL values\n",
    "> no column needs to be dropped as of now\n",
    "\n",
    "\n",
    "### 7 tuples with NULL values in field \"merchant_code\"\n",
    "> can be dropped"
   ]
  },
  {
   "cell_type": "code",
   "execution_count": 6,
   "metadata": {},
   "outputs": [
    {
     "data": {
      "text/plain": [
       "sku_name          0\n",
       "product_id        0\n",
       "merchant_code     0\n",
       "merchant_badge    0\n",
       "product_type      0\n",
       "merchant_city     0\n",
       "cod               0\n",
       "price             0\n",
       "stock             0\n",
       "daily_gmv         0\n",
       "daily_sold        0\n",
       "daily_view        0\n",
       "rating            0\n",
       "total_review      0\n",
       "total_sold        0\n",
       "dtype: int64"
      ]
     },
     "execution_count": 6,
     "metadata": {},
     "output_type": "execute_result"
    }
   ],
   "source": [
    "df=df.dropna() # dropping those tuples\n",
    "df.isnull().sum()"
   ]
  },
  {
   "cell_type": "code",
   "execution_count": 7,
   "metadata": {},
   "outputs": [
    {
     "data": {
      "text/plain": [
       "<AxesSubplot:ylabel='date'>"
      ]
     },
     "execution_count": 7,
     "metadata": {},
     "output_type": "execute_result"
    },
    {
     "data": {
      "image/png": "[encoded data removed]",
      "text/plain": [
       "<Figure size 432x288 with 2 Axes>"
      ]
     },
     "metadata": {
      "needs_background": "light"
     },
     "output_type": "display_data"
    }
   ],
   "source": [
    "sns.heatmap(df.isnull(),cmap='viridis')"
   ]
  },
  {
   "cell_type": "markdown",
   "metadata": {},
   "source": [
    ">boxplots for features"
   ]
  },
  {
   "cell_type": "code",
   "execution_count": 8,
   "metadata": {},
   "outputs": [
    {
     "data": {
      "text/plain": [
       "<AxesSubplot:ylabel='merchant_code'>"
      ]
     },
     "execution_count": 8,
     "metadata": {},
     "output_type": "execute_result"
    },
    {
     "data": {
      "image/png": "[encoded data removed]",
      "text/plain": [
       "<Figure size 432x288 with 1 Axes>"
      ]
     },
     "metadata": {
      "needs_background": "light"
     },
     "output_type": "display_data"
    }
   ],
   "source": [
    "\n",
    "sns.boxplot(y='merchant_code',data=df)"
   ]
  },
  {
   "cell_type": "code",
   "execution_count": 9,
   "metadata": {},
   "outputs": [
    {
     "data": {
      "text/plain": [
       "<AxesSubplot:ylabel='price'>"
      ]
     },
     "execution_count": 9,
     "metadata": {},
     "output_type": "execute_result"
    },
    {
     "data": {
      "image/png": "[encoded data removed]",
      "text/plain": [
       "<Figure size 432x288 with 1 Axes>"
      ]
     },
     "metadata": {
      "needs_background": "light"
     },
     "output_type": "display_data"
    }
   ],
   "source": [
    "sns.boxplot(y='price',data=df)"
   ]
  },
  {
   "cell_type": "code",
   "execution_count": 10,
   "metadata": {},
   "outputs": [
    {
     "data": {
      "text/plain": [
       "<AxesSubplot:ylabel='stock'>"
      ]
     },
     "execution_count": 10,
     "metadata": {},
     "output_type": "execute_result"
    },
    {
     "data": {
      "image/png": "[encoded data removed]",
      "text/plain": [
       "<Figure size 432x288 with 1 Axes>"
      ]
     },
     "metadata": {
      "needs_background": "light"
     },
     "output_type": "display_data"
    }
   ],
   "source": [
    "sns.boxplot(y='stock',data=df)"
   ]
  },
  {
   "cell_type": "code",
   "execution_count": 11,
   "metadata": {},
   "outputs": [
    {
     "data": {
      "text/plain": [
       "<AxesSubplot:ylabel='daily_gmv'>"
      ]
     },
     "execution_count": 11,
     "metadata": {},
     "output_type": "execute_result"
    },
    {
     "data": {
      "image/png": "[encoded data removed]",
      "text/plain": [
       "<Figure size 432x288 with 1 Axes>"
      ]
     },
     "metadata": {
      "needs_background": "light"
     },
     "output_type": "display_data"
    }
   ],
   "source": [
    "sns.boxplot(y='daily_gmv',data=df)"
   ]
  },
  {
   "cell_type": "code",
   "execution_count": 12,
   "metadata": {},
   "outputs": [
    {
     "data": {
      "text/plain": [
       "<AxesSubplot:ylabel='daily_sold'>"
      ]
     },
     "execution_count": 12,
     "metadata": {},
     "output_type": "execute_result"
    },
    {
     "data": {
      "image/png": "[encoded data removed]",
      "text/plain": [
       "<Figure size 432x288 with 1 Axes>"
      ]
     },
     "metadata": {
      "needs_background": "light"
     },
     "output_type": "display_data"
    }
   ],
   "source": [
    "sns.boxplot(y='daily_sold',data=df)"
   ]
  },
  {
   "cell_type": "code",
   "execution_count": 13,
   "metadata": {},
   "outputs": [
    {
     "data": {
      "text/plain": [
       "<AxesSubplot:ylabel='daily_view'>"
      ]
     },
     "execution_count": 13,
     "metadata": {},
     "output_type": "execute_result"
    },
    {
     "data": {
      "image/png": "[encoded data removed]",
      "text/plain": [
       "<Figure size 432x288 with 1 Axes>"
      ]
     },
     "metadata": {
      "needs_background": "light"
     },
     "output_type": "display_data"
    }
   ],
   "source": [
    "sns.boxplot(y='daily_view',data=df)"
   ]
  },
  {
   "cell_type": "code",
   "execution_count": 14,
   "metadata": {},
   "outputs": [
    {
     "data": {
      "text/plain": [
       "<AxesSubplot:ylabel='rating'>"
      ]
     },
     "execution_count": 14,
     "metadata": {},
     "output_type": "execute_result"
    },
    {
     "data": {
      "image/png": "[encoded data removed]",
      "text/plain": [
       "<Figure size 432x288 with 1 Axes>"
      ]
     },
     "metadata": {
      "needs_background": "light"
     },
     "output_type": "display_data"
    }
   ],
   "source": [
    "sns.boxplot(y='rating',data=df)"
   ]
  },
  {
   "cell_type": "code",
   "execution_count": 15,
   "metadata": {},
   "outputs": [
    {
     "data": {
      "text/plain": [
       "<AxesSubplot:ylabel='total_review'>"
      ]
     },
     "execution_count": 15,
     "metadata": {},
     "output_type": "execute_result"
    },
    {
     "data": {
      "image/png": "[encoded data removed]",
      "text/plain": [
       "<Figure size 432x288 with 1 Axes>"
      ]
     },
     "metadata": {
      "needs_background": "light"
     },
     "output_type": "display_data"
    }
   ],
   "source": [
    "sns.boxplot(y='total_review',data=df)"
   ]
  },
  {
   "cell_type": "markdown",
   "metadata": {},
   "source": [
    ">correlation matrix"
   ]
  },
  {
   "cell_type": "code",
   "execution_count": 16,
   "metadata": {},
   "outputs": [
    {
     "data": {
      "text/plain": [
       "<AxesSubplot:>"
      ]
     },
     "execution_count": 16,
     "metadata": {},
     "output_type": "execute_result"
    },
    {
     "data": {
      "image/png": "[encoded data removed]",
      "text/plain": [
       "<Figure size 1152x720 with 2 Axes>"
      ]
     },
     "metadata": {
      "needs_background": "light"
     },
     "output_type": "display_data"
    }
   ],
   "source": [
    "corrmatrix=df.corr()\n",
    "plt.figure(figsize = (16,10))\n",
    "sns.heatmap(corrmatrix, annot=True)"
   ]
  },
  {
   "cell_type": "markdown",
   "metadata": {},
   "source": [
    "### plotting\n",
    ">total_sold vs date"
   ]
  },
  {
   "cell_type": "code",
   "execution_count": 17,
   "metadata": {},
   "outputs": [
    {
     "data": {
      "text/plain": [
       "<AxesSubplot:xlabel='date'>"
      ]
     },
     "execution_count": 17,
     "metadata": {},
     "output_type": "execute_result"
    },
    {
     "data": {
      "image/png": "[encoded data removed]",
      "text/plain": [
       "<Figure size 1080x720 with 1 Axes>"
      ]
     },
     "metadata": {
      "needs_background": "light"
     },
     "output_type": "display_data"
    }
   ],
   "source": [
    "df[['total_sold']].plot(figsize=(15, 10),style=[ '--'],lw=2)"
   ]
  },
  {
   "cell_type": "markdown",
   "metadata": {},
   "source": [
    ">plotting variables grouped by day of week"
   ]
  },
  {
   "cell_type": "code",
   "execution_count": 18,
   "metadata": {},
   "outputs": [
    {
     "data": {
      "text/html": [
       "<div>\n",
       "<style scoped>\n",
       "    .dataframe tbody tr th:only-of-type {\n",
       "        vertical-align: middle;\n",
       "    }\n",
       "\n",
       "    .dataframe tbody tr th {\n",
       "        vertical-align: top;\n",
       "    }\n",
       "\n",
       "    .dataframe thead th {\n",
       "        text-align: right;\n",
       "    }\n",
       "</style>\n",
       "<table border=\"1\" class=\"dataframe\">\n",
       "  <thead>\n",
       "    <tr style=\"text-align: right;\">\n",
       "      <th></th>\n",
       "      <th>daily_view</th>\n",
       "      <th>total_sold</th>\n",
       "      <th>total_review</th>\n",
       "      <th>rating</th>\n",
       "    </tr>\n",
       "    <tr>\n",
       "      <th>date</th>\n",
       "      <th></th>\n",
       "      <th></th>\n",
       "      <th></th>\n",
       "      <th></th>\n",
       "    </tr>\n",
       "  </thead>\n",
       "  <tbody>\n",
       "    <tr>\n",
       "      <th>0</th>\n",
       "      <td>239874</td>\n",
       "      <td>575517</td>\n",
       "      <td>167742</td>\n",
       "      <td>366134</td>\n",
       "    </tr>\n",
       "    <tr>\n",
       "      <th>1</th>\n",
       "      <td>193305</td>\n",
       "      <td>575324</td>\n",
       "      <td>171872</td>\n",
       "      <td>396506</td>\n",
       "    </tr>\n",
       "    <tr>\n",
       "      <th>2</th>\n",
       "      <td>334592</td>\n",
       "      <td>782640</td>\n",
       "      <td>236245</td>\n",
       "      <td>496246</td>\n",
       "    </tr>\n",
       "    <tr>\n",
       "      <th>3</th>\n",
       "      <td>254878</td>\n",
       "      <td>583539</td>\n",
       "      <td>181947</td>\n",
       "      <td>352151</td>\n",
       "    </tr>\n",
       "    <tr>\n",
       "      <th>4</th>\n",
       "      <td>163663</td>\n",
       "      <td>467891</td>\n",
       "      <td>147168</td>\n",
       "      <td>306335</td>\n",
       "    </tr>\n",
       "    <tr>\n",
       "      <th>5</th>\n",
       "      <td>153819</td>\n",
       "      <td>458902</td>\n",
       "      <td>146002</td>\n",
       "      <td>316334</td>\n",
       "    </tr>\n",
       "    <tr>\n",
       "      <th>6</th>\n",
       "      <td>189841</td>\n",
       "      <td>521126</td>\n",
       "      <td>154557</td>\n",
       "      <td>323900</td>\n",
       "    </tr>\n",
       "  </tbody>\n",
       "</table>\n",
       "</div>"
      ],
      "text/plain": [
       "      daily_view  total_sold  total_review  rating\n",
       "date                                              \n",
       "0         239874      575517        167742  366134\n",
       "1         193305      575324        171872  396506\n",
       "2         334592      782640        236245  496246\n",
       "3         254878      583539        181947  352151\n",
       "4         163663      467891        147168  306335\n",
       "5         153819      458902        146002  316334\n",
       "6         189841      521126        154557  323900"
      ]
     },
     "execution_count": 18,
     "metadata": {},
     "output_type": "execute_result"
    }
   ],
   "source": [
    "df_week = df[['daily_view','total_sold','total_review','rating']].groupby(df.index.weekday).sum() # they have similar range\n",
    "df_week"
   ]
  },
  {
   "cell_type": "code",
   "execution_count": 19,
   "metadata": {},
   "outputs": [
    {
     "name": "stderr",
     "output_type": "stream",
     "text": [
      "<ipython-input-19-5ee74aac5580>:6: UserWarning: FixedFormatter should only be used together with FixedLocator\n",
      "  ax.set_xticklabels(',Monday,Tuesday,Wednesday,Thursday,Friday,Saturday,Sunday'.split(','))\n"
     ]
    },
    {
     "data": {
      "text/plain": [
       "(0.0, 814471.9)"
      ]
     },
     "execution_count": 19,
     "metadata": {},
     "output_type": "execute_result"
    },
    {
     "data": {
      "image/png": "[encoded data removed]",
      "text/plain": [
       "<Figure size 720x576 with 1 Axes>"
      ]
     },
     "metadata": {
      "needs_background": "light"
     },
     "output_type": "display_data"
    }
   ],
   "source": [
    "fig, ax = plt.subplots(1, 1, figsize=(10, 8))\n",
    "df_week.plot(style='-o', lw=3, ax=ax)\n",
    "ax.set_xlabel('Weekday')\n",
    "# We replace the labels 0, 1, 2... by the weekday\n",
    "# names.\n",
    "ax.set_xticklabels(',Monday,Tuesday,Wednesday,Thursday,Friday,Saturday,Sunday'.split(','))\n",
    "ax.set_ylim(0)  # Set the bottom axis to 0."
   ]
  },
  {
   "cell_type": "code",
   "execution_count": 20,
   "metadata": {},
   "outputs": [
    {
     "data": {
      "text/html": [
       "<div>\n",
       "<style scoped>\n",
       "    .dataframe tbody tr th:only-of-type {\n",
       "        vertical-align: middle;\n",
       "    }\n",
       "\n",
       "    .dataframe tbody tr th {\n",
       "        vertical-align: top;\n",
       "    }\n",
       "\n",
       "    .dataframe thead th {\n",
       "        text-align: right;\n",
       "    }\n",
       "</style>\n",
       "<table border=\"1\" class=\"dataframe\">\n",
       "  <thead>\n",
       "    <tr style=\"text-align: right;\">\n",
       "      <th></th>\n",
       "      <th>stock</th>\n",
       "      <th>price</th>\n",
       "      <th>daily_gmv</th>\n",
       "    </tr>\n",
       "    <tr>\n",
       "      <th>date</th>\n",
       "      <th></th>\n",
       "      <th></th>\n",
       "      <th></th>\n",
       "    </tr>\n",
       "  </thead>\n",
       "  <tbody>\n",
       "    <tr>\n",
       "      <th>0</th>\n",
       "      <td>1209569462</td>\n",
       "      <td>13876702281</td>\n",
       "      <td>6896976128</td>\n",
       "    </tr>\n",
       "    <tr>\n",
       "      <th>1</th>\n",
       "      <td>1428182873</td>\n",
       "      <td>16611080428</td>\n",
       "      <td>4822291986</td>\n",
       "    </tr>\n",
       "    <tr>\n",
       "      <th>2</th>\n",
       "      <td>1783033796</td>\n",
       "      <td>20103019946</td>\n",
       "      <td>10863587351</td>\n",
       "    </tr>\n",
       "    <tr>\n",
       "      <th>3</th>\n",
       "      <td>1204889107</td>\n",
       "      <td>12868007873</td>\n",
       "      <td>4200600761</td>\n",
       "    </tr>\n",
       "    <tr>\n",
       "      <th>4</th>\n",
       "      <td>1050230945</td>\n",
       "      <td>12015689127</td>\n",
       "      <td>4470749054</td>\n",
       "    </tr>\n",
       "    <tr>\n",
       "      <th>5</th>\n",
       "      <td>1091570870</td>\n",
       "      <td>12723669029</td>\n",
       "      <td>4448481420</td>\n",
       "    </tr>\n",
       "    <tr>\n",
       "      <th>6</th>\n",
       "      <td>1193742519</td>\n",
       "      <td>12994420335</td>\n",
       "      <td>5455231562</td>\n",
       "    </tr>\n",
       "  </tbody>\n",
       "</table>\n",
       "</div>"
      ],
      "text/plain": [
       "           stock        price    daily_gmv\n",
       "date                                      \n",
       "0     1209569462  13876702281   6896976128\n",
       "1     1428182873  16611080428   4822291986\n",
       "2     1783033796  20103019946  10863587351\n",
       "3     1204889107  12868007873   4200600761\n",
       "4     1050230945  12015689127   4470749054\n",
       "5     1091570870  12723669029   4448481420\n",
       "6     1193742519  12994420335   5455231562"
      ]
     },
     "execution_count": 20,
     "metadata": {},
     "output_type": "execute_result"
    }
   ],
   "source": [
    "df_week = df[['stock','price','daily_gmv']].groupby(df.index.weekday).sum() # they have similar range\n",
    "df_week"
   ]
  },
  {
   "cell_type": "code",
   "execution_count": 21,
   "metadata": {},
   "outputs": [
    {
     "name": "stderr",
     "output_type": "stream",
     "text": [
      "<ipython-input-21-5ee74aac5580>:6: UserWarning: FixedFormatter should only be used together with FixedLocator\n",
      "  ax.set_xticklabels(',Monday,Tuesday,Wednesday,Thursday,Friday,Saturday,Sunday'.split(','))\n"
     ]
    },
    {
     "data": {
      "text/plain": [
       "(0.0, 21055659396.05)"
      ]
     },
     "execution_count": 21,
     "metadata": {},
     "output_type": "execute_result"
    },
    {
     "data": {
      "image/png": "[encoded data removed]",
      "text/plain": [
       "<Figure size 720x576 with 1 Axes>"
      ]
     },
     "metadata": {
      "needs_background": "light"
     },
     "output_type": "display_data"
    }
   ],
   "source": [
    "fig, ax = plt.subplots(1, 1, figsize=(10, 8))\n",
    "df_week.plot(style='-o', lw=3, ax=ax)\n",
    "ax.set_xlabel('Weekday')\n",
    "# We replace the labels 0, 1, 2... by the weekday\n",
    "# names.\n",
    "ax.set_xticklabels(',Monday,Tuesday,Wednesday,Thursday,Friday,Saturday,Sunday'.split(','))\n",
    "ax.set_ylim(0)  # Set the bottom axis to 0."
   ]
  },
  {
   "cell_type": "markdown",
   "metadata": {},
   "source": [
    ">total_sold w.r.t the categorical variable cod"
   ]
  },
  {
   "cell_type": "markdown",
   "metadata": {},
   "source": [
    ">exploring how total_sold varies with the binary values of cod"
   ]
  },
  {
   "cell_type": "code",
   "execution_count": 22,
   "metadata": {},
   "outputs": [
    {
     "data": {
      "text/plain": [
       "<seaborn.axisgrid.FacetGrid at 0x7f5eb77acfd0>"
      ]
     },
     "execution_count": 22,
     "metadata": {},
     "output_type": "execute_result"
    },
    {
     "data": {
      "image/png": "[encoded data removed]",
      "text/plain": [
       "<Figure size 360x360 with 1 Axes>"
      ]
     },
     "metadata": {
      "needs_background": "light"
     },
     "output_type": "display_data"
    }
   ],
   "source": [
    "sns.catplot(x=\"cod\", y=\"total_sold\",data=df)"
   ]
  },
  {
   "cell_type": "markdown",
   "metadata": {},
   "source": [
    ">exploring top 20 brands in terms of number of products"
   ]
  },
  {
   "cell_type": "code",
   "execution_count": 23,
   "metadata": {},
   "outputs": [
    {
     "data": {
      "text/plain": [
       "Realme 6                 2161\n",
       "Samsung Galaxy A10s      1062\n",
       "Xiaomi Redmi Note 8      1025\n",
       "Xiaomi Redmi 7A           858\n",
       "Xiaomi Redmi 6A           747\n",
       "                         ... \n",
       "Samsung Galaxy Fold         1\n",
       "Huawei nova 4               1\n",
       "Xiaomi Mi 5c                1\n",
       "vivo Y69                    1\n",
       "Samsung Galaxy S5 Neo       1\n",
       "Name: product_type, Length: 361, dtype: int64"
      ]
     },
     "execution_count": 23,
     "metadata": {},
     "output_type": "execute_result"
    }
   ],
   "source": [
    "df['product_type'].value_counts()"
   ]
  },
  {
   "cell_type": "code",
   "execution_count": 24,
   "metadata": {},
   "outputs": [],
   "source": [
    "top_brands=df['product_type'].value_counts().head(20)"
   ]
  },
  {
   "cell_type": "code",
   "execution_count": 25,
   "metadata": {},
   "outputs": [
    {
     "data": {
      "text/html": [
       "<div>\n",
       "<style scoped>\n",
       "    .dataframe tbody tr th:only-of-type {\n",
       "        vertical-align: middle;\n",
       "    }\n",
       "\n",
       "    .dataframe tbody tr th {\n",
       "        vertical-align: top;\n",
       "    }\n",
       "\n",
       "    .dataframe thead th {\n",
       "        text-align: right;\n",
       "    }\n",
       "</style>\n",
       "<table border=\"1\" class=\"dataframe\">\n",
       "  <thead>\n",
       "    <tr style=\"text-align: right;\">\n",
       "      <th></th>\n",
       "      <th>count</th>\n",
       "    </tr>\n",
       "  </thead>\n",
       "  <tbody>\n",
       "    <tr>\n",
       "      <th>Realme 6</th>\n",
       "      <td>2161</td>\n",
       "    </tr>\n",
       "    <tr>\n",
       "      <th>Samsung Galaxy A10s</th>\n",
       "      <td>1062</td>\n",
       "    </tr>\n",
       "    <tr>\n",
       "      <th>Xiaomi Redmi Note 8</th>\n",
       "      <td>1025</td>\n",
       "    </tr>\n",
       "    <tr>\n",
       "      <th>Xiaomi Redmi 7A</th>\n",
       "      <td>858</td>\n",
       "    </tr>\n",
       "    <tr>\n",
       "      <th>Xiaomi Redmi 6A</th>\n",
       "      <td>747</td>\n",
       "    </tr>\n",
       "    <tr>\n",
       "      <th>Xiaomi Redmi Note 8 Pro</th>\n",
       "      <td>616</td>\n",
       "    </tr>\n",
       "    <tr>\n",
       "      <th>Apple iPhone 7 Plus</th>\n",
       "      <td>611</td>\n",
       "    </tr>\n",
       "    <tr>\n",
       "      <th>Apple iPhone 7</th>\n",
       "      <td>561</td>\n",
       "    </tr>\n",
       "    <tr>\n",
       "      <th>Xiaomi Redmi Note 7</th>\n",
       "      <td>523</td>\n",
       "    </tr>\n",
       "    <tr>\n",
       "      <th>Apple iPhone X</th>\n",
       "      <td>450</td>\n",
       "    </tr>\n",
       "    <tr>\n",
       "      <th>Apple iPhone 6</th>\n",
       "      <td>440</td>\n",
       "    </tr>\n",
       "    <tr>\n",
       "      <th>Oppo A5s (AX5s)</th>\n",
       "      <td>427</td>\n",
       "    </tr>\n",
       "    <tr>\n",
       "      <th>Apple iPhone 6s</th>\n",
       "      <td>427</td>\n",
       "    </tr>\n",
       "    <tr>\n",
       "      <th>Samsung Galaxy A50</th>\n",
       "      <td>367</td>\n",
       "    </tr>\n",
       "    <tr>\n",
       "      <th>vivo Y12</th>\n",
       "      <td>367</td>\n",
       "    </tr>\n",
       "    <tr>\n",
       "      <th>Oppo A9</th>\n",
       "      <td>350</td>\n",
       "    </tr>\n",
       "    <tr>\n",
       "      <th>Samsung Galaxy A20s</th>\n",
       "      <td>339</td>\n",
       "    </tr>\n",
       "    <tr>\n",
       "      <th>Samsung Galaxy A50s</th>\n",
       "      <td>326</td>\n",
       "    </tr>\n",
       "    <tr>\n",
       "      <th>Vivo Y91C</th>\n",
       "      <td>326</td>\n",
       "    </tr>\n",
       "    <tr>\n",
       "      <th>Oppo A5 (2020)</th>\n",
       "      <td>320</td>\n",
       "    </tr>\n",
       "  </tbody>\n",
       "</table>\n",
       "</div>"
      ],
      "text/plain": [
       "                         count\n",
       "Realme 6                  2161\n",
       "Samsung Galaxy A10s       1062\n",
       "Xiaomi Redmi Note 8       1025\n",
       "Xiaomi Redmi 7A            858\n",
       "Xiaomi Redmi 6A            747\n",
       "Xiaomi Redmi Note 8 Pro    616\n",
       "Apple iPhone 7 Plus        611\n",
       "Apple iPhone 7             561\n",
       "Xiaomi Redmi Note 7        523\n",
       "Apple iPhone X             450\n",
       "Apple iPhone 6             440\n",
       "Oppo A5s (AX5s)            427\n",
       "Apple iPhone 6s            427\n",
       "Samsung Galaxy A50         367\n",
       "vivo Y12                   367\n",
       "Oppo A9                    350\n",
       "Samsung Galaxy A20s        339\n",
       "Samsung Galaxy A50s        326\n",
       "Vivo Y91C                  326\n",
       "Oppo A5 (2020)             320"
      ]
     },
     "execution_count": 25,
     "metadata": {},
     "output_type": "execute_result"
    }
   ],
   "source": [
    "top_brands.to_frame(name=\"count\")"
   ]
  },
  {
   "cell_type": "code",
   "execution_count": 26,
   "metadata": {},
   "outputs": [
    {
     "data": {
      "text/plain": [
       "<AxesSubplot:>"
      ]
     },
     "execution_count": 26,
     "metadata": {},
     "output_type": "execute_result"
    },
    {
     "data": {
      "image/png": "[encoded data removed]",
      "text/plain": [
       "<Figure size 1080x576 with 1 Axes>"
      ]
     },
     "metadata": {
      "needs_background": "light"
     },
     "output_type": "display_data"
    }
   ],
   "source": [
    "top_brands.plot.bar(color=\"orange\",figsize=(15, 8))"
   ]
  },
  {
   "cell_type": "markdown",
   "metadata": {},
   "source": [
    ">exploring top ten costliest w.r.t product type"
   ]
  },
  {
   "cell_type": "code",
   "execution_count": 27,
   "metadata": {},
   "outputs": [
    {
     "data": {
      "text/html": [
       "<div>\n",
       "<style scoped>\n",
       "    .dataframe tbody tr th:only-of-type {\n",
       "        vertical-align: middle;\n",
       "    }\n",
       "\n",
       "    .dataframe tbody tr th {\n",
       "        vertical-align: top;\n",
       "    }\n",
       "\n",
       "    .dataframe thead th {\n",
       "        text-align: right;\n",
       "    }\n",
       "</style>\n",
       "<table border=\"1\" class=\"dataframe\">\n",
       "  <thead>\n",
       "    <tr style=\"text-align: right;\">\n",
       "      <th></th>\n",
       "      <th>merchant_code</th>\n",
       "      <th>cod</th>\n",
       "      <th>price</th>\n",
       "      <th>stock</th>\n",
       "      <th>daily_gmv</th>\n",
       "      <th>daily_sold</th>\n",
       "      <th>daily_view</th>\n",
       "      <th>rating</th>\n",
       "      <th>total_review</th>\n",
       "      <th>total_sold</th>\n",
       "    </tr>\n",
       "    <tr>\n",
       "      <th>product_type</th>\n",
       "      <th></th>\n",
       "      <th></th>\n",
       "      <th></th>\n",
       "      <th></th>\n",
       "      <th></th>\n",
       "      <th></th>\n",
       "      <th></th>\n",
       "      <th></th>\n",
       "      <th></th>\n",
       "      <th></th>\n",
       "    </tr>\n",
       "  </thead>\n",
       "  <tbody>\n",
       "    <tr>\n",
       "      <th>Apple iPhone</th>\n",
       "      <td>2756.0</td>\n",
       "      <td>False</td>\n",
       "      <td>21790000</td>\n",
       "      <td>999999</td>\n",
       "      <td>7000000</td>\n",
       "      <td>1</td>\n",
       "      <td>12</td>\n",
       "      <td>100</td>\n",
       "      <td>12</td>\n",
       "      <td>95</td>\n",
       "    </tr>\n",
       "    <tr>\n",
       "      <th>Apple iPhone 11</th>\n",
       "      <td>3198.0</td>\n",
       "      <td>False</td>\n",
       "      <td>18069000</td>\n",
       "      <td>999999</td>\n",
       "      <td>47850000</td>\n",
       "      <td>3</td>\n",
       "      <td>870</td>\n",
       "      <td>100</td>\n",
       "      <td>424</td>\n",
       "      <td>550</td>\n",
       "    </tr>\n",
       "    <tr>\n",
       "      <th>Apple iPhone 11 Pro</th>\n",
       "      <td>3670.0</td>\n",
       "      <td>False</td>\n",
       "      <td>24999000</td>\n",
       "      <td>999999</td>\n",
       "      <td>39000000</td>\n",
       "      <td>2</td>\n",
       "      <td>2118</td>\n",
       "      <td>100</td>\n",
       "      <td>256</td>\n",
       "      <td>355</td>\n",
       "    </tr>\n",
       "    <tr>\n",
       "      <th>Apple iPhone 11 Pro Max</th>\n",
       "      <td>4085.0</td>\n",
       "      <td>False</td>\n",
       "      <td>30000000</td>\n",
       "      <td>999999</td>\n",
       "      <td>222750000</td>\n",
       "      <td>9</td>\n",
       "      <td>6529</td>\n",
       "      <td>100</td>\n",
       "      <td>362</td>\n",
       "      <td>563</td>\n",
       "    </tr>\n",
       "    <tr>\n",
       "      <th>Apple iPhone 4</th>\n",
       "      <td>2796.0</td>\n",
       "      <td>True</td>\n",
       "      <td>3550000</td>\n",
       "      <td>999999</td>\n",
       "      <td>0</td>\n",
       "      <td>0</td>\n",
       "      <td>3</td>\n",
       "      <td>100</td>\n",
       "      <td>11</td>\n",
       "      <td>17</td>\n",
       "    </tr>\n",
       "    <tr>\n",
       "      <th>...</th>\n",
       "      <td>...</td>\n",
       "      <td>...</td>\n",
       "      <td>...</td>\n",
       "      <td>...</td>\n",
       "      <td>...</td>\n",
       "      <td>...</td>\n",
       "      <td>...</td>\n",
       "      <td>...</td>\n",
       "      <td>...</td>\n",
       "      <td>...</td>\n",
       "    </tr>\n",
       "    <tr>\n",
       "      <th>vivo Y93</th>\n",
       "      <td>2717.0</td>\n",
       "      <td>False</td>\n",
       "      <td>3000000</td>\n",
       "      <td>999999</td>\n",
       "      <td>9750000</td>\n",
       "      <td>6</td>\n",
       "      <td>833</td>\n",
       "      <td>100</td>\n",
       "      <td>647</td>\n",
       "      <td>974</td>\n",
       "    </tr>\n",
       "    <tr>\n",
       "      <th>vivo Y95</th>\n",
       "      <td>2720.0</td>\n",
       "      <td>False</td>\n",
       "      <td>4000000</td>\n",
       "      <td>999999</td>\n",
       "      <td>3000000</td>\n",
       "      <td>1</td>\n",
       "      <td>131</td>\n",
       "      <td>100</td>\n",
       "      <td>494</td>\n",
       "      <td>700</td>\n",
       "    </tr>\n",
       "    <tr>\n",
       "      <th>vivo Z1</th>\n",
       "      <td>2541.0</td>\n",
       "      <td>False</td>\n",
       "      <td>3000000</td>\n",
       "      <td>9982</td>\n",
       "      <td>0</td>\n",
       "      <td>0</td>\n",
       "      <td>23</td>\n",
       "      <td>92</td>\n",
       "      <td>5</td>\n",
       "      <td>29</td>\n",
       "    </tr>\n",
       "    <tr>\n",
       "      <th>vivo Z1Pro</th>\n",
       "      <td>2741.0</td>\n",
       "      <td>False</td>\n",
       "      <td>4000000</td>\n",
       "      <td>999999</td>\n",
       "      <td>100230000</td>\n",
       "      <td>39</td>\n",
       "      <td>3187</td>\n",
       "      <td>100</td>\n",
       "      <td>351</td>\n",
       "      <td>585</td>\n",
       "    </tr>\n",
       "    <tr>\n",
       "      <th>vivo iQOO Pro</th>\n",
       "      <td>2794.0</td>\n",
       "      <td>False</td>\n",
       "      <td>5200000</td>\n",
       "      <td>999999</td>\n",
       "      <td>15600000</td>\n",
       "      <td>3</td>\n",
       "      <td>63</td>\n",
       "      <td>100</td>\n",
       "      <td>363</td>\n",
       "      <td>465</td>\n",
       "    </tr>\n",
       "  </tbody>\n",
       "</table>\n",
       "<p>361 rows × 10 columns</p>\n",
       "</div>"
      ],
      "text/plain": [
       "                         merchant_code    cod     price   stock  daily_gmv  \\\n",
       "product_type                                                                 \n",
       "Apple iPhone                    2756.0  False  21790000  999999    7000000   \n",
       "Apple iPhone 11                 3198.0  False  18069000  999999   47850000   \n",
       "Apple iPhone 11 Pro             3670.0  False  24999000  999999   39000000   \n",
       "Apple iPhone 11 Pro Max         4085.0  False  30000000  999999  222750000   \n",
       "Apple iPhone 4                  2796.0   True   3550000  999999          0   \n",
       "...                                ...    ...       ...     ...        ...   \n",
       "vivo Y93                        2717.0  False   3000000  999999    9750000   \n",
       "vivo Y95                        2720.0  False   4000000  999999    3000000   \n",
       "vivo Z1                         2541.0  False   3000000    9982          0   \n",
       "vivo Z1Pro                      2741.0  False   4000000  999999  100230000   \n",
       "vivo iQOO Pro                   2794.0  False   5200000  999999   15600000   \n",
       "\n",
       "                         daily_sold  daily_view  rating  total_review  \\\n",
       "product_type                                                            \n",
       "Apple iPhone                      1          12     100            12   \n",
       "Apple iPhone 11                   3         870     100           424   \n",
       "Apple iPhone 11 Pro               2        2118     100           256   \n",
       "Apple iPhone 11 Pro Max           9        6529     100           362   \n",
       "Apple iPhone 4                    0           3     100            11   \n",
       "...                             ...         ...     ...           ...   \n",
       "vivo Y93                          6         833     100           647   \n",
       "vivo Y95                          1         131     100           494   \n",
       "vivo Z1                           0          23      92             5   \n",
       "vivo Z1Pro                       39        3187     100           351   \n",
       "vivo iQOO Pro                     3          63     100           363   \n",
       "\n",
       "                         total_sold  \n",
       "product_type                         \n",
       "Apple iPhone                     95  \n",
       "Apple iPhone 11                 550  \n",
       "Apple iPhone 11 Pro             355  \n",
       "Apple iPhone 11 Pro Max         563  \n",
       "Apple iPhone 4                   17  \n",
       "...                             ...  \n",
       "vivo Y93                        974  \n",
       "vivo Y95                        700  \n",
       "vivo Z1                          29  \n",
       "vivo Z1Pro                      585  \n",
       "vivo iQOO Pro                   465  \n",
       "\n",
       "[361 rows x 10 columns]"
      ]
     },
     "execution_count": 27,
     "metadata": {},
     "output_type": "execute_result"
    }
   ],
   "source": [
    "bytype=df.groupby(\"product_type\")\n",
    "costliest=bytype.max(\"price\")\n",
    "costliest"
   ]
  },
  {
   "cell_type": "code",
   "execution_count": 28,
   "metadata": {},
   "outputs": [
    {
     "data": {
      "text/html": [
       "<div>\n",
       "<style scoped>\n",
       "    .dataframe tbody tr th:only-of-type {\n",
       "        vertical-align: middle;\n",
       "    }\n",
       "\n",
       "    .dataframe tbody tr th {\n",
       "        vertical-align: top;\n",
       "    }\n",
       "\n",
       "    .dataframe thead th {\n",
       "        text-align: right;\n",
       "    }\n",
       "</style>\n",
       "<table border=\"1\" class=\"dataframe\">\n",
       "  <thead>\n",
       "    <tr style=\"text-align: right;\">\n",
       "      <th></th>\n",
       "      <th>merchant_code</th>\n",
       "      <th>cod</th>\n",
       "      <th>price</th>\n",
       "      <th>stock</th>\n",
       "      <th>daily_gmv</th>\n",
       "      <th>daily_sold</th>\n",
       "      <th>daily_view</th>\n",
       "      <th>rating</th>\n",
       "      <th>total_review</th>\n",
       "      <th>total_sold</th>\n",
       "    </tr>\n",
       "    <tr>\n",
       "      <th>product_type</th>\n",
       "      <th></th>\n",
       "      <th></th>\n",
       "      <th></th>\n",
       "      <th></th>\n",
       "      <th></th>\n",
       "      <th></th>\n",
       "      <th></th>\n",
       "      <th></th>\n",
       "      <th></th>\n",
       "      <th></th>\n",
       "    </tr>\n",
       "  </thead>\n",
       "  <tbody>\n",
       "    <tr>\n",
       "      <th>Apple iPhone 7 Plus</th>\n",
       "      <td>3767.0</td>\n",
       "      <td>True</td>\n",
       "      <td>50000000</td>\n",
       "      <td>999999</td>\n",
       "      <td>120275000</td>\n",
       "      <td>17</td>\n",
       "      <td>1184</td>\n",
       "      <td>100</td>\n",
       "      <td>218</td>\n",
       "      <td>607</td>\n",
       "    </tr>\n",
       "    <tr>\n",
       "      <th>Apple iPhone 11 Pro Max</th>\n",
       "      <td>4085.0</td>\n",
       "      <td>False</td>\n",
       "      <td>30000000</td>\n",
       "      <td>999999</td>\n",
       "      <td>222750000</td>\n",
       "      <td>9</td>\n",
       "      <td>6529</td>\n",
       "      <td>100</td>\n",
       "      <td>362</td>\n",
       "      <td>563</td>\n",
       "    </tr>\n",
       "    <tr>\n",
       "      <th>Samsung Galaxy Fold</th>\n",
       "      <td>1989.0</td>\n",
       "      <td>False</td>\n",
       "      <td>27885000</td>\n",
       "      <td>999978</td>\n",
       "      <td>0</td>\n",
       "      <td>0</td>\n",
       "      <td>86</td>\n",
       "      <td>100</td>\n",
       "      <td>18</td>\n",
       "      <td>24</td>\n",
       "    </tr>\n",
       "    <tr>\n",
       "      <th>Apple iPhone XS Max</th>\n",
       "      <td>3808.0</td>\n",
       "      <td>False</td>\n",
       "      <td>26500000</td>\n",
       "      <td>999999</td>\n",
       "      <td>14639000</td>\n",
       "      <td>1</td>\n",
       "      <td>480</td>\n",
       "      <td>100</td>\n",
       "      <td>129</td>\n",
       "      <td>306</td>\n",
       "    </tr>\n",
       "    <tr>\n",
       "      <th>Apple iPhone 11 Pro</th>\n",
       "      <td>3670.0</td>\n",
       "      <td>False</td>\n",
       "      <td>24999000</td>\n",
       "      <td>999999</td>\n",
       "      <td>39000000</td>\n",
       "      <td>2</td>\n",
       "      <td>2118</td>\n",
       "      <td>100</td>\n",
       "      <td>256</td>\n",
       "      <td>355</td>\n",
       "    </tr>\n",
       "    <tr>\n",
       "      <th>Apple iPhone X</th>\n",
       "      <td>3139.0</td>\n",
       "      <td>False</td>\n",
       "      <td>24598000</td>\n",
       "      <td>999999</td>\n",
       "      <td>12499000</td>\n",
       "      <td>1</td>\n",
       "      <td>544</td>\n",
       "      <td>100</td>\n",
       "      <td>120</td>\n",
       "      <td>233</td>\n",
       "    </tr>\n",
       "    <tr>\n",
       "      <th>Samsung Galaxy Fold 5G</th>\n",
       "      <td>2353.0</td>\n",
       "      <td>False</td>\n",
       "      <td>24500000</td>\n",
       "      <td>2</td>\n",
       "      <td>0</td>\n",
       "      <td>0</td>\n",
       "      <td>0</td>\n",
       "      <td>100</td>\n",
       "      <td>11</td>\n",
       "      <td>24</td>\n",
       "    </tr>\n",
       "    <tr>\n",
       "      <th>Apple iPhone XS</th>\n",
       "      <td>3327.0</td>\n",
       "      <td>False</td>\n",
       "      <td>23900000</td>\n",
       "      <td>999999</td>\n",
       "      <td>14645000</td>\n",
       "      <td>1</td>\n",
       "      <td>207</td>\n",
       "      <td>100</td>\n",
       "      <td>133</td>\n",
       "      <td>322</td>\n",
       "    </tr>\n",
       "    <tr>\n",
       "      <th>Apple iPhone</th>\n",
       "      <td>2756.0</td>\n",
       "      <td>False</td>\n",
       "      <td>21790000</td>\n",
       "      <td>999999</td>\n",
       "      <td>7000000</td>\n",
       "      <td>1</td>\n",
       "      <td>12</td>\n",
       "      <td>100</td>\n",
       "      <td>12</td>\n",
       "      <td>95</td>\n",
       "    </tr>\n",
       "    <tr>\n",
       "      <th>Samsung Galaxy S20 Ultra 5G</th>\n",
       "      <td>1111.0</td>\n",
       "      <td>False</td>\n",
       "      <td>20999000</td>\n",
       "      <td>45</td>\n",
       "      <td>15849000</td>\n",
       "      <td>1</td>\n",
       "      <td>1512</td>\n",
       "      <td>100</td>\n",
       "      <td>35</td>\n",
       "      <td>51</td>\n",
       "    </tr>\n",
       "  </tbody>\n",
       "</table>\n",
       "</div>"
      ],
      "text/plain": [
       "                             merchant_code    cod     price   stock  \\\n",
       "product_type                                                          \n",
       "Apple iPhone 7 Plus                 3767.0   True  50000000  999999   \n",
       "Apple iPhone 11 Pro Max             4085.0  False  30000000  999999   \n",
       "Samsung Galaxy Fold                 1989.0  False  27885000  999978   \n",
       "Apple iPhone XS Max                 3808.0  False  26500000  999999   \n",
       "Apple iPhone 11 Pro                 3670.0  False  24999000  999999   \n",
       "Apple iPhone X                      3139.0  False  24598000  999999   \n",
       "Samsung Galaxy Fold 5G              2353.0  False  24500000       2   \n",
       "Apple iPhone XS                     3327.0  False  23900000  999999   \n",
       "Apple iPhone                        2756.0  False  21790000  999999   \n",
       "Samsung Galaxy S20 Ultra 5G         1111.0  False  20999000      45   \n",
       "\n",
       "                             daily_gmv  daily_sold  daily_view  rating  \\\n",
       "product_type                                                             \n",
       "Apple iPhone 7 Plus          120275000          17        1184     100   \n",
       "Apple iPhone 11 Pro Max      222750000           9        6529     100   \n",
       "Samsung Galaxy Fold                  0           0          86     100   \n",
       "Apple iPhone XS Max           14639000           1         480     100   \n",
       "Apple iPhone 11 Pro           39000000           2        2118     100   \n",
       "Apple iPhone X                12499000           1         544     100   \n",
       "Samsung Galaxy Fold 5G               0           0           0     100   \n",
       "Apple iPhone XS               14645000           1         207     100   \n",
       "Apple iPhone                   7000000           1          12     100   \n",
       "Samsung Galaxy S20 Ultra 5G   15849000           1        1512     100   \n",
       "\n",
       "                             total_review  total_sold  \n",
       "product_type                                           \n",
       "Apple iPhone 7 Plus                   218         607  \n",
       "Apple iPhone 11 Pro Max               362         563  \n",
       "Samsung Galaxy Fold                    18          24  \n",
       "Apple iPhone XS Max                   129         306  \n",
       "Apple iPhone 11 Pro                   256         355  \n",
       "Apple iPhone X                        120         233  \n",
       "Samsung Galaxy Fold 5G                 11          24  \n",
       "Apple iPhone XS                       133         322  \n",
       "Apple iPhone                           12          95  \n",
       "Samsung Galaxy S20 Ultra 5G            35          51  "
      ]
     },
     "execution_count": 28,
     "metadata": {},
     "output_type": "execute_result"
    }
   ],
   "source": [
    "costliest.nlargest(10,[\"price\"])"
   ]
  },
  {
   "cell_type": "code",
   "execution_count": 29,
   "metadata": {},
   "outputs": [
    {
     "data": {
      "text/plain": [
       "<AxesSubplot:xlabel='product_type'>"
      ]
     },
     "execution_count": 29,
     "metadata": {},
     "output_type": "execute_result"
    },
    {
     "data": {
      "image/png": "[encoded data removed]",
      "text/plain": [
       "<Figure size 1080x576 with 1 Axes>"
      ]
     },
     "metadata": {
      "needs_background": "light"
     },
     "output_type": "display_data"
    }
   ],
   "source": [
    "costliest=costliest.nlargest(10,[\"price\"])[\"price\"]\n",
    "costliest.plot.bar(color=\"maroon\",figsize=(15, 8))"
   ]
  },
  {
   "cell_type": "code",
   "execution_count": 30,
   "metadata": {},
   "outputs": [
    {
     "data": {
      "text/html": [
       "<div>\n",
       "<style scoped>\n",
       "    .dataframe tbody tr th:only-of-type {\n",
       "        vertical-align: middle;\n",
       "    }\n",
       "\n",
       "    .dataframe tbody tr th {\n",
       "        vertical-align: top;\n",
       "    }\n",
       "\n",
       "    .dataframe thead th {\n",
       "        text-align: right;\n",
       "    }\n",
       "</style>\n",
       "<table border=\"1\" class=\"dataframe\">\n",
       "  <thead>\n",
       "    <tr style=\"text-align: right;\">\n",
       "      <th></th>\n",
       "      <th>sku_name</th>\n",
       "      <th>product_id</th>\n",
       "      <th>merchant_code</th>\n",
       "      <th>merchant_badge</th>\n",
       "      <th>product_type</th>\n",
       "      <th>merchant_city</th>\n",
       "      <th>cod</th>\n",
       "      <th>price</th>\n",
       "      <th>stock</th>\n",
       "      <th>daily_gmv</th>\n",
       "      <th>daily_sold</th>\n",
       "      <th>daily_view</th>\n",
       "      <th>rating</th>\n",
       "      <th>total_review</th>\n",
       "      <th>total_sold</th>\n",
       "    </tr>\n",
       "    <tr>\n",
       "      <th>date</th>\n",
       "      <th></th>\n",
       "      <th></th>\n",
       "      <th></th>\n",
       "      <th></th>\n",
       "      <th></th>\n",
       "      <th></th>\n",
       "      <th></th>\n",
       "      <th></th>\n",
       "      <th></th>\n",
       "      <th></th>\n",
       "      <th></th>\n",
       "      <th></th>\n",
       "      <th></th>\n",
       "      <th></th>\n",
       "      <th></th>\n",
       "    </tr>\n",
       "  </thead>\n",
       "  <tbody>\n",
       "    <tr>\n",
       "      <th>2020-03-11</th>\n",
       "      <td>HUAWEI NOVA 5T RAM 8GB INTERNAL 128GB</td>\n",
       "      <td>E1</td>\n",
       "      <td>1.0</td>\n",
       "      <td>PM</td>\n",
       "      <td>Huawei nova 5T</td>\n",
       "      <td>Kota Kediri</td>\n",
       "      <td>False</td>\n",
       "      <td>4500000</td>\n",
       "      <td>1</td>\n",
       "      <td>0</td>\n",
       "      <td>0</td>\n",
       "      <td>0</td>\n",
       "      <td>95</td>\n",
       "      <td>37</td>\n",
       "      <td>74</td>\n",
       "    </tr>\n",
       "    <tr>\n",
       "      <th>2020-03-11</th>\n",
       "      <td>SAMSUNG A10S Ram 2-32 GB</td>\n",
       "      <td>E1319</td>\n",
       "      <td>2082.0</td>\n",
       "      <td>PM</td>\n",
       "      <td>Samsung Galaxy A10s</td>\n",
       "      <td>Kab. Bekasi</td>\n",
       "      <td>False</td>\n",
       "      <td>1616000</td>\n",
       "      <td>30</td>\n",
       "      <td>0</td>\n",
       "      <td>0</td>\n",
       "      <td>0</td>\n",
       "      <td>98</td>\n",
       "      <td>125</td>\n",
       "      <td>1546</td>\n",
       "    </tr>\n",
       "    <tr>\n",
       "      <th>2020-03-11</th>\n",
       "      <td>Vivo Z1 Pro 4/64 GB 64GB Garansi Resmi - Biru</td>\n",
       "      <td>E813</td>\n",
       "      <td>1295.0</td>\n",
       "      <td>PM</td>\n",
       "      <td>vivo Z1Pro</td>\n",
       "      <td>Kota Tangerang Selatan</td>\n",
       "      <td>False</td>\n",
       "      <td>2945000</td>\n",
       "      <td>2</td>\n",
       "      <td>0</td>\n",
       "      <td>0</td>\n",
       "      <td>0</td>\n",
       "      <td>99</td>\n",
       "      <td>24</td>\n",
       "      <td>51</td>\n",
       "    </tr>\n",
       "    <tr>\n",
       "      <th>2020-03-11</th>\n",
       "      <td>Samsung A10S 2/32 Garansi Resmi Baru Segel - H...</td>\n",
       "      <td>F1176</td>\n",
       "      <td>1845.0</td>\n",
       "      <td>PM</td>\n",
       "      <td>Samsung Galaxy A10s</td>\n",
       "      <td>Kab. Sleman</td>\n",
       "      <td>False</td>\n",
       "      <td>1615000</td>\n",
       "      <td>3</td>\n",
       "      <td>0</td>\n",
       "      <td>0</td>\n",
       "      <td>0</td>\n",
       "      <td>100</td>\n",
       "      <td>21</td>\n",
       "      <td>58</td>\n",
       "    </tr>\n",
       "    <tr>\n",
       "      <th>2020-03-11</th>\n",
       "      <td>VIVO Z1 PRO RAM 4/64 GB GARANSI RESMI VIVO IND...</td>\n",
       "      <td>E818</td>\n",
       "      <td>875.0</td>\n",
       "      <td>PM</td>\n",
       "      <td>vivo Z1Pro</td>\n",
       "      <td>Kota Administrasi Jakarta Barat</td>\n",
       "      <td>False</td>\n",
       "      <td>3279000</td>\n",
       "      <td>999999</td>\n",
       "      <td>0</td>\n",
       "      <td>0</td>\n",
       "      <td>0</td>\n",
       "      <td>98</td>\n",
       "      <td>137</td>\n",
       "      <td>194</td>\n",
       "    </tr>\n",
       "    <tr>\n",
       "      <th>...</th>\n",
       "      <td>...</td>\n",
       "      <td>...</td>\n",
       "      <td>...</td>\n",
       "      <td>...</td>\n",
       "      <td>...</td>\n",
       "      <td>...</td>\n",
       "      <td>...</td>\n",
       "      <td>...</td>\n",
       "      <td>...</td>\n",
       "      <td>...</td>\n",
       "      <td>...</td>\n",
       "      <td>...</td>\n",
       "      <td>...</td>\n",
       "      <td>...</td>\n",
       "      <td>...</td>\n",
       "    </tr>\n",
       "    <tr>\n",
       "      <th>2020-04-30</th>\n",
       "      <td>VIVO Y12 RAM 3/64GB GARANSI RESMI VIVO INDONES...</td>\n",
       "      <td>E708</td>\n",
       "      <td>875.0</td>\n",
       "      <td>PM</td>\n",
       "      <td>vivo Y12</td>\n",
       "      <td>Kota Administrasi Jakarta Barat</td>\n",
       "      <td>False</td>\n",
       "      <td>1789000</td>\n",
       "      <td>9851</td>\n",
       "      <td>5367000</td>\n",
       "      <td>3</td>\n",
       "      <td>230</td>\n",
       "      <td>98</td>\n",
       "      <td>405</td>\n",
       "      <td>705</td>\n",
       "    </tr>\n",
       "    <tr>\n",
       "      <th>2020-04-30</th>\n",
       "      <td>REALME 6 PRO 8/128 6/128 4/64 - 8GB 6GB/128GB ...</td>\n",
       "      <td>G245</td>\n",
       "      <td>976.0</td>\n",
       "      <td>PM</td>\n",
       "      <td>Realme 6</td>\n",
       "      <td>Kota Administrasi Jakarta Pusat</td>\n",
       "      <td>False</td>\n",
       "      <td>4181000</td>\n",
       "      <td>8</td>\n",
       "      <td>33448000</td>\n",
       "      <td>8</td>\n",
       "      <td>435</td>\n",
       "      <td>97</td>\n",
       "      <td>29</td>\n",
       "      <td>51</td>\n",
       "    </tr>\n",
       "    <tr>\n",
       "      <th>2020-04-30</th>\n",
       "      <td>samsungA30</td>\n",
       "      <td>E1214</td>\n",
       "      <td>1910.0</td>\n",
       "      <td>PM</td>\n",
       "      <td>Samsung Galaxy A30</td>\n",
       "      <td>Kab. Tegal</td>\n",
       "      <td>False</td>\n",
       "      <td>3000000</td>\n",
       "      <td>96</td>\n",
       "      <td>0</td>\n",
       "      <td>0</td>\n",
       "      <td>3</td>\n",
       "      <td>100</td>\n",
       "      <td>50</td>\n",
       "      <td>231</td>\n",
       "    </tr>\n",
       "    <tr>\n",
       "      <th>2020-04-30</th>\n",
       "      <td>Samsung Galaxy A50 Ram 4/64 Garansi Nasional S...</td>\n",
       "      <td>D1750</td>\n",
       "      <td>1254.0</td>\n",
       "      <td>PM</td>\n",
       "      <td>Samsung Galaxy A50</td>\n",
       "      <td>Kota Medan</td>\n",
       "      <td>False</td>\n",
       "      <td>3700000</td>\n",
       "      <td>999998</td>\n",
       "      <td>0</td>\n",
       "      <td>0</td>\n",
       "      <td>1</td>\n",
       "      <td>100</td>\n",
       "      <td>18</td>\n",
       "      <td>28</td>\n",
       "    </tr>\n",
       "    <tr>\n",
       "      <th>2020-04-30</th>\n",
       "      <td>iPhone Xs Max 256gb RAM4gb GOLD SILVER GREY - ...</td>\n",
       "      <td>C1088</td>\n",
       "      <td>3802.0</td>\n",
       "      <td>PM</td>\n",
       "      <td>Apple iPhone XS Max</td>\n",
       "      <td>Kota Administrasi Jakarta Barat</td>\n",
       "      <td>False</td>\n",
       "      <td>19999000</td>\n",
       "      <td>1</td>\n",
       "      <td>0</td>\n",
       "      <td>0</td>\n",
       "      <td>2</td>\n",
       "      <td>100</td>\n",
       "      <td>6</td>\n",
       "      <td>6</td>\n",
       "    </tr>\n",
       "  </tbody>\n",
       "</table>\n",
       "<p>26007 rows × 15 columns</p>\n",
       "</div>"
      ],
      "text/plain": [
       "                                                     sku_name product_id  \\\n",
       "date                                                                       \n",
       "2020-03-11              HUAWEI NOVA 5T RAM 8GB INTERNAL 128GB         E1   \n",
       "2020-03-11                           SAMSUNG A10S Ram 2-32 GB      E1319   \n",
       "2020-03-11      Vivo Z1 Pro 4/64 GB 64GB Garansi Resmi - Biru       E813   \n",
       "2020-03-11  Samsung A10S 2/32 Garansi Resmi Baru Segel - H...      F1176   \n",
       "2020-03-11  VIVO Z1 PRO RAM 4/64 GB GARANSI RESMI VIVO IND...       E818   \n",
       "...                                                       ...        ...   \n",
       "2020-04-30  VIVO Y12 RAM 3/64GB GARANSI RESMI VIVO INDONES...       E708   \n",
       "2020-04-30  REALME 6 PRO 8/128 6/128 4/64 - 8GB 6GB/128GB ...       G245   \n",
       "2020-04-30                                         samsungA30      E1214   \n",
       "2020-04-30  Samsung Galaxy A50 Ram 4/64 Garansi Nasional S...      D1750   \n",
       "2020-04-30  iPhone Xs Max 256gb RAM4gb GOLD SILVER GREY - ...      C1088   \n",
       "\n",
       "            merchant_code merchant_badge         product_type  \\\n",
       "date                                                            \n",
       "2020-03-11            1.0             PM       Huawei nova 5T   \n",
       "2020-03-11         2082.0             PM  Samsung Galaxy A10s   \n",
       "2020-03-11         1295.0             PM           vivo Z1Pro   \n",
       "2020-03-11         1845.0             PM  Samsung Galaxy A10s   \n",
       "2020-03-11          875.0             PM           vivo Z1Pro   \n",
       "...                   ...            ...                  ...   \n",
       "2020-04-30          875.0             PM             vivo Y12   \n",
       "2020-04-30          976.0             PM             Realme 6   \n",
       "2020-04-30         1910.0             PM   Samsung Galaxy A30   \n",
       "2020-04-30         1254.0             PM   Samsung Galaxy A50   \n",
       "2020-04-30         3802.0             PM  Apple iPhone XS Max   \n",
       "\n",
       "                              merchant_city    cod     price   stock  \\\n",
       "date                                                                   \n",
       "2020-03-11                      Kota Kediri  False   4500000       1   \n",
       "2020-03-11                      Kab. Bekasi  False   1616000      30   \n",
       "2020-03-11           Kota Tangerang Selatan  False   2945000       2   \n",
       "2020-03-11                      Kab. Sleman  False   1615000       3   \n",
       "2020-03-11  Kota Administrasi Jakarta Barat  False   3279000  999999   \n",
       "...                                     ...    ...       ...     ...   \n",
       "2020-04-30  Kota Administrasi Jakarta Barat  False   1789000    9851   \n",
       "2020-04-30  Kota Administrasi Jakarta Pusat  False   4181000       8   \n",
       "2020-04-30                       Kab. Tegal  False   3000000      96   \n",
       "2020-04-30                       Kota Medan  False   3700000  999998   \n",
       "2020-04-30  Kota Administrasi Jakarta Barat  False  19999000       1   \n",
       "\n",
       "            daily_gmv  daily_sold  daily_view  rating  total_review  \\\n",
       "date                                                                  \n",
       "2020-03-11          0           0           0      95            37   \n",
       "2020-03-11          0           0           0      98           125   \n",
       "2020-03-11          0           0           0      99            24   \n",
       "2020-03-11          0           0           0     100            21   \n",
       "2020-03-11          0           0           0      98           137   \n",
       "...               ...         ...         ...     ...           ...   \n",
       "2020-04-30    5367000           3         230      98           405   \n",
       "2020-04-30   33448000           8         435      97            29   \n",
       "2020-04-30          0           0           3     100            50   \n",
       "2020-04-30          0           0           1     100            18   \n",
       "2020-04-30          0           0           2     100             6   \n",
       "\n",
       "            total_sold  \n",
       "date                    \n",
       "2020-03-11          74  \n",
       "2020-03-11        1546  \n",
       "2020-03-11          51  \n",
       "2020-03-11          58  \n",
       "2020-03-11         194  \n",
       "...                ...  \n",
       "2020-04-30         705  \n",
       "2020-04-30          51  \n",
       "2020-04-30         231  \n",
       "2020-04-30          28  \n",
       "2020-04-30           6  \n",
       "\n",
       "[26007 rows x 15 columns]"
      ]
     },
     "execution_count": 30,
     "metadata": {},
     "output_type": "execute_result"
    }
   ],
   "source": [
    "df = df.sort_values(by='date')\n",
    "df"
   ]
  },
  {
   "cell_type": "markdown",
   "metadata": {},
   "source": [
    "### Normalising the continous variables"
   ]
  },
  {
   "cell_type": "code",
   "execution_count": 31,
   "metadata": {},
   "outputs": [],
   "source": [
    "sc= StandardScaler()\n",
    "df_new=df.copy()\n",
    "column_names = ['price','stock','daily_gmv','daily_sold','daily_view','rating','total_review'] # List of columns that must be normalized\n",
    "features = df_new[column_names]\n",
    "scaler = sc.fit(features.values)\n",
    "features = scaler.transform(features.values)\n",
    "df_new[column_names] = features\n",
    "df=df_new"
   ]
  },
  {
   "cell_type": "code",
   "execution_count": 32,
   "metadata": {},
   "outputs": [],
   "source": [
    "def get_dataset(name, mobile_dict):\n",
    "    #A dictionary that will contain the unique mobile phone models as keys and their corresponding sales information in the\n",
    "    #form of a dataframe as values\n",
    "    if mobile_dict:\n",
    "       # mobile_dict[name].set_index('week')\n",
    "        return mobile_dict[name]\n",
    "\n",
    "    #Getting the list of attributes needed to recreate the sales data dataframe for the individual phone models.\n",
    "    column_list = []\n",
    "    for i in df:\n",
    "        column_list.append(i)\n",
    "    \n",
    "\n",
    "    #Creating the dataframes \n",
    "    for i in df['product_type'].unique():\n",
    "        mobile_dict[i] = pd.DataFrame(columns=column_list)\n",
    "  \n",
    "    #Copying information into the dataframes\n",
    "    for i in mobile_dict:\n",
    "        mobile_dict[i] = df.loc[df['product_type'] == i]\n",
    "    \n",
    "    # Dropping date as it isn't unifomrly distributed and dropping product_type as it already happens to be \n",
    "    #the key in the dictionary\n",
    "\n",
    "    for i in mobile_dict.keys():\n",
    "        for column in mobile_dict[i].columns:\n",
    "            if column in ['date', 'product_type']:\n",
    "                del mobile_dict[i][column]\n",
    "\n",
    "    #Appending the week column for each of the dataframes\n",
    "    for i in mobile_dict.keys():\n",
    "        week = []\n",
    "        for j in range(1, len(mobile_dict[i]) + 1):\n",
    "            week.append(str(j))\n",
    "    \n",
    "        mobile_dict[i].insert(1, \"week\", week, True)\n",
    "    \n",
    "    # removing outliers\n",
    "    column_names = ['price','stock','daily_gmv','daily_sold','daily_view','rating','total_review']\n",
    "    for clm_name in mobile_dict[name].columns:\n",
    "        if clm_name in column_names:\n",
    "            q_low = mobile_dict[name][clm_name].quantile(0.01)\n",
    "            q_hi  = mobile_dict[name][clm_name].quantile(0.99)\n",
    "\n",
    "            df_filtered = mobile_dict[name][(mobile_dict[name][clm_name] < q_hi) & (mobile_dict[name][clm_name] > q_low)]\n",
    "\n",
    "    # dropping all unnecessary columns\n",
    "    \n",
    "    df_filtered.drop(['sku_name','merchant_code','merchant_badge'],axis=1,inplace=True)\n",
    "    # encoding categorical variables\n",
    "    df_filtered=pd.get_dummies(data=df_filtered,columns=['cod','merchant_city','product_id'])\n",
    "    return df_filtered #mobile_dict[name]"
   ]
  },
  {
   "cell_type": "code",
   "execution_count": 33,
   "metadata": {},
   "outputs": [
    {
     "name": "stderr",
     "output_type": "stream",
     "text": [
      "/home/sriram/.local/lib/python3.8/site-packages/pandas/core/frame.py:4162: SettingWithCopyWarning: \n",
      "A value is trying to be set on a copy of a slice from a DataFrame\n",
      "\n",
      "See the caveats in the documentation: https://pandas.pydata.org/pandas-docs/stable/user_guide/indexing.html#returning-a-view-versus-a-copy\n",
      "  return super().drop(\n"
     ]
    },
    {
     "data": {
      "text/html": [
       "<div>\n",
       "<style scoped>\n",
       "    .dataframe tbody tr th:only-of-type {\n",
       "        vertical-align: middle;\n",
       "    }\n",
       "\n",
       "    .dataframe tbody tr th {\n",
       "        vertical-align: top;\n",
       "    }\n",
       "\n",
       "    .dataframe thead th {\n",
       "        text-align: right;\n",
       "    }\n",
       "</style>\n",
       "<table border=\"1\" class=\"dataframe\">\n",
       "  <thead>\n",
       "    <tr style=\"text-align: right;\">\n",
       "      <th></th>\n",
       "      <th>week</th>\n",
       "      <th>price</th>\n",
       "      <th>stock</th>\n",
       "      <th>daily_gmv</th>\n",
       "      <th>daily_sold</th>\n",
       "      <th>daily_view</th>\n",
       "      <th>rating</th>\n",
       "      <th>total_review</th>\n",
       "      <th>total_sold</th>\n",
       "      <th>cod_False</th>\n",
       "      <th>...</th>\n",
       "      <th>product_id_F2</th>\n",
       "      <th>product_id_F3011</th>\n",
       "      <th>product_id_F3012</th>\n",
       "      <th>product_id_F3013</th>\n",
       "      <th>product_id_F674</th>\n",
       "      <th>product_id_F675</th>\n",
       "      <th>product_id_F676</th>\n",
       "      <th>product_id_F677</th>\n",
       "      <th>product_id_G335</th>\n",
       "      <th>product_id_G50</th>\n",
       "    </tr>\n",
       "    <tr>\n",
       "      <th>date</th>\n",
       "      <th></th>\n",
       "      <th></th>\n",
       "      <th></th>\n",
       "      <th></th>\n",
       "      <th></th>\n",
       "      <th></th>\n",
       "      <th></th>\n",
       "      <th></th>\n",
       "      <th></th>\n",
       "      <th></th>\n",
       "      <th></th>\n",
       "      <th></th>\n",
       "      <th></th>\n",
       "      <th></th>\n",
       "      <th></th>\n",
       "      <th></th>\n",
       "      <th></th>\n",
       "      <th></th>\n",
       "      <th></th>\n",
       "      <th></th>\n",
       "      <th></th>\n",
       "    </tr>\n",
       "  </thead>\n",
       "  <tbody>\n",
       "    <tr>\n",
       "      <th>2020-03-11</th>\n",
       "      <td>1</td>\n",
       "      <td>0.157408</td>\n",
       "      <td>-0.726784</td>\n",
       "      <td>-0.098670</td>\n",
       "      <td>-0.098930</td>\n",
       "      <td>-0.124337</td>\n",
       "      <td>-0.613162</td>\n",
       "      <td>-0.102615</td>\n",
       "      <td>74</td>\n",
       "      <td>1</td>\n",
       "      <td>...</td>\n",
       "      <td>0</td>\n",
       "      <td>0</td>\n",
       "      <td>0</td>\n",
       "      <td>0</td>\n",
       "      <td>0</td>\n",
       "      <td>0</td>\n",
       "      <td>0</td>\n",
       "      <td>0</td>\n",
       "      <td>0</td>\n",
       "      <td>0</td>\n",
       "    </tr>\n",
       "    <tr>\n",
       "      <th>2020-03-18</th>\n",
       "      <td>2</td>\n",
       "      <td>0.208712</td>\n",
       "      <td>-0.726773</td>\n",
       "      <td>-0.098670</td>\n",
       "      <td>-0.098930</td>\n",
       "      <td>-0.124337</td>\n",
       "      <td>-0.062909</td>\n",
       "      <td>-0.179405</td>\n",
       "      <td>48</td>\n",
       "      <td>1</td>\n",
       "      <td>...</td>\n",
       "      <td>0</td>\n",
       "      <td>0</td>\n",
       "      <td>0</td>\n",
       "      <td>0</td>\n",
       "      <td>0</td>\n",
       "      <td>0</td>\n",
       "      <td>0</td>\n",
       "      <td>0</td>\n",
       "      <td>0</td>\n",
       "      <td>0</td>\n",
       "    </tr>\n",
       "    <tr>\n",
       "      <th>2020-03-23</th>\n",
       "      <td>3</td>\n",
       "      <td>0.180643</td>\n",
       "      <td>-0.726752</td>\n",
       "      <td>-0.098670</td>\n",
       "      <td>-0.098930</td>\n",
       "      <td>-0.124337</td>\n",
       "      <td>-0.429745</td>\n",
       "      <td>-0.376864</td>\n",
       "      <td>19</td>\n",
       "      <td>1</td>\n",
       "      <td>...</td>\n",
       "      <td>1</td>\n",
       "      <td>0</td>\n",
       "      <td>0</td>\n",
       "      <td>0</td>\n",
       "      <td>0</td>\n",
       "      <td>0</td>\n",
       "      <td>0</td>\n",
       "      <td>0</td>\n",
       "      <td>0</td>\n",
       "      <td>0</td>\n",
       "    </tr>\n",
       "    <tr>\n",
       "      <th>2020-03-23</th>\n",
       "      <td>4</td>\n",
       "      <td>0.180643</td>\n",
       "      <td>-0.705727</td>\n",
       "      <td>-0.098670</td>\n",
       "      <td>-0.098930</td>\n",
       "      <td>-0.124337</td>\n",
       "      <td>0.120508</td>\n",
       "      <td>-0.179405</td>\n",
       "      <td>59</td>\n",
       "      <td>1</td>\n",
       "      <td>...</td>\n",
       "      <td>0</td>\n",
       "      <td>0</td>\n",
       "      <td>0</td>\n",
       "      <td>0</td>\n",
       "      <td>1</td>\n",
       "      <td>0</td>\n",
       "      <td>0</td>\n",
       "      <td>0</td>\n",
       "      <td>0</td>\n",
       "      <td>0</td>\n",
       "    </tr>\n",
       "    <tr>\n",
       "      <th>2020-03-24</th>\n",
       "      <td>5</td>\n",
       "      <td>0.177826</td>\n",
       "      <td>-0.726784</td>\n",
       "      <td>-0.098670</td>\n",
       "      <td>-0.098930</td>\n",
       "      <td>0.408270</td>\n",
       "      <td>-0.429745</td>\n",
       "      <td>-0.289104</td>\n",
       "      <td>38</td>\n",
       "      <td>1</td>\n",
       "      <td>...</td>\n",
       "      <td>0</td>\n",
       "      <td>0</td>\n",
       "      <td>0</td>\n",
       "      <td>0</td>\n",
       "      <td>0</td>\n",
       "      <td>0</td>\n",
       "      <td>0</td>\n",
       "      <td>1</td>\n",
       "      <td>0</td>\n",
       "      <td>0</td>\n",
       "    </tr>\n",
       "    <tr>\n",
       "      <th>...</th>\n",
       "      <td>...</td>\n",
       "      <td>...</td>\n",
       "      <td>...</td>\n",
       "      <td>...</td>\n",
       "      <td>...</td>\n",
       "      <td>...</td>\n",
       "      <td>...</td>\n",
       "      <td>...</td>\n",
       "      <td>...</td>\n",
       "      <td>...</td>\n",
       "      <td>...</td>\n",
       "      <td>...</td>\n",
       "      <td>...</td>\n",
       "      <td>...</td>\n",
       "      <td>...</td>\n",
       "      <td>...</td>\n",
       "      <td>...</td>\n",
       "      <td>...</td>\n",
       "      <td>...</td>\n",
       "      <td>...</td>\n",
       "      <td>...</td>\n",
       "    </tr>\n",
       "    <tr>\n",
       "      <th>2020-04-29</th>\n",
       "      <td>116</td>\n",
       "      <td>0.208712</td>\n",
       "      <td>-0.726775</td>\n",
       "      <td>-0.098670</td>\n",
       "      <td>-0.098930</td>\n",
       "      <td>-0.124337</td>\n",
       "      <td>0.120508</td>\n",
       "      <td>-0.047765</td>\n",
       "      <td>63</td>\n",
       "      <td>1</td>\n",
       "      <td>...</td>\n",
       "      <td>0</td>\n",
       "      <td>0</td>\n",
       "      <td>0</td>\n",
       "      <td>0</td>\n",
       "      <td>0</td>\n",
       "      <td>0</td>\n",
       "      <td>0</td>\n",
       "      <td>0</td>\n",
       "      <td>0</td>\n",
       "      <td>0</td>\n",
       "    </tr>\n",
       "    <tr>\n",
       "      <th>2020-04-29</th>\n",
       "      <td>117</td>\n",
       "      <td>0.221764</td>\n",
       "      <td>-0.726746</td>\n",
       "      <td>-0.098670</td>\n",
       "      <td>-0.098930</td>\n",
       "      <td>-0.124337</td>\n",
       "      <td>-0.429745</td>\n",
       "      <td>-0.168435</td>\n",
       "      <td>58</td>\n",
       "      <td>1</td>\n",
       "      <td>...</td>\n",
       "      <td>0</td>\n",
       "      <td>0</td>\n",
       "      <td>0</td>\n",
       "      <td>0</td>\n",
       "      <td>0</td>\n",
       "      <td>0</td>\n",
       "      <td>0</td>\n",
       "      <td>1</td>\n",
       "      <td>0</td>\n",
       "      <td>0</td>\n",
       "    </tr>\n",
       "    <tr>\n",
       "      <th>2020-04-29</th>\n",
       "      <td>118</td>\n",
       "      <td>0.234946</td>\n",
       "      <td>-0.726758</td>\n",
       "      <td>-0.098670</td>\n",
       "      <td>-0.098930</td>\n",
       "      <td>-0.124337</td>\n",
       "      <td>-0.062909</td>\n",
       "      <td>1.400271</td>\n",
       "      <td>326</td>\n",
       "      <td>1</td>\n",
       "      <td>...</td>\n",
       "      <td>0</td>\n",
       "      <td>0</td>\n",
       "      <td>0</td>\n",
       "      <td>0</td>\n",
       "      <td>0</td>\n",
       "      <td>0</td>\n",
       "      <td>0</td>\n",
       "      <td>0</td>\n",
       "      <td>0</td>\n",
       "      <td>0</td>\n",
       "    </tr>\n",
       "    <tr>\n",
       "      <th>2020-04-29</th>\n",
       "      <td>119</td>\n",
       "      <td>0.234946</td>\n",
       "      <td>-0.726758</td>\n",
       "      <td>0.799142</td>\n",
       "      <td>0.303523</td>\n",
       "      <td>1.659473</td>\n",
       "      <td>-0.062909</td>\n",
       "      <td>1.400271</td>\n",
       "      <td>326</td>\n",
       "      <td>1</td>\n",
       "      <td>...</td>\n",
       "      <td>0</td>\n",
       "      <td>0</td>\n",
       "      <td>0</td>\n",
       "      <td>0</td>\n",
       "      <td>0</td>\n",
       "      <td>0</td>\n",
       "      <td>0</td>\n",
       "      <td>0</td>\n",
       "      <td>0</td>\n",
       "      <td>0</td>\n",
       "    </tr>\n",
       "    <tr>\n",
       "      <th>2020-04-30</th>\n",
       "      <td>120</td>\n",
       "      <td>0.247610</td>\n",
       "      <td>-0.726746</td>\n",
       "      <td>-0.098670</td>\n",
       "      <td>-0.098930</td>\n",
       "      <td>0.144080</td>\n",
       "      <td>-0.429745</td>\n",
       "      <td>-0.168435</td>\n",
       "      <td>58</td>\n",
       "      <td>1</td>\n",
       "      <td>...</td>\n",
       "      <td>0</td>\n",
       "      <td>0</td>\n",
       "      <td>0</td>\n",
       "      <td>0</td>\n",
       "      <td>0</td>\n",
       "      <td>0</td>\n",
       "      <td>0</td>\n",
       "      <td>1</td>\n",
       "      <td>0</td>\n",
       "      <td>0</td>\n",
       "    </tr>\n",
       "  </tbody>\n",
       "</table>\n",
       "<p>115 rows × 43 columns</p>\n",
       "</div>"
      ],
      "text/plain": [
       "           week     price     stock  daily_gmv  daily_sold  daily_view  \\\n",
       "date                                                                     \n",
       "2020-03-11    1  0.157408 -0.726784  -0.098670   -0.098930   -0.124337   \n",
       "2020-03-18    2  0.208712 -0.726773  -0.098670   -0.098930   -0.124337   \n",
       "2020-03-23    3  0.180643 -0.726752  -0.098670   -0.098930   -0.124337   \n",
       "2020-03-23    4  0.180643 -0.705727  -0.098670   -0.098930   -0.124337   \n",
       "2020-03-24    5  0.177826 -0.726784  -0.098670   -0.098930    0.408270   \n",
       "...         ...       ...       ...        ...         ...         ...   \n",
       "2020-04-29  116  0.208712 -0.726775  -0.098670   -0.098930   -0.124337   \n",
       "2020-04-29  117  0.221764 -0.726746  -0.098670   -0.098930   -0.124337   \n",
       "2020-04-29  118  0.234946 -0.726758  -0.098670   -0.098930   -0.124337   \n",
       "2020-04-29  119  0.234946 -0.726758   0.799142    0.303523    1.659473   \n",
       "2020-04-30  120  0.247610 -0.726746  -0.098670   -0.098930    0.144080   \n",
       "\n",
       "              rating  total_review  total_sold  cod_False  ...  product_id_F2  \\\n",
       "date                                                       ...                  \n",
       "2020-03-11 -0.613162     -0.102615          74          1  ...              0   \n",
       "2020-03-18 -0.062909     -0.179405          48          1  ...              0   \n",
       "2020-03-23 -0.429745     -0.376864          19          1  ...              1   \n",
       "2020-03-23  0.120508     -0.179405          59          1  ...              0   \n",
       "2020-03-24 -0.429745     -0.289104          38          1  ...              0   \n",
       "...              ...           ...         ...        ...  ...            ...   \n",
       "2020-04-29  0.120508     -0.047765          63          1  ...              0   \n",
       "2020-04-29 -0.429745     -0.168435          58          1  ...              0   \n",
       "2020-04-29 -0.062909      1.400271         326          1  ...              0   \n",
       "2020-04-29 -0.062909      1.400271         326          1  ...              0   \n",
       "2020-04-30 -0.429745     -0.168435          58          1  ...              0   \n",
       "\n",
       "            product_id_F3011  product_id_F3012  product_id_F3013  \\\n",
       "date                                                               \n",
       "2020-03-11                 0                 0                 0   \n",
       "2020-03-18                 0                 0                 0   \n",
       "2020-03-23                 0                 0                 0   \n",
       "2020-03-23                 0                 0                 0   \n",
       "2020-03-24                 0                 0                 0   \n",
       "...                      ...               ...               ...   \n",
       "2020-04-29                 0                 0                 0   \n",
       "2020-04-29                 0                 0                 0   \n",
       "2020-04-29                 0                 0                 0   \n",
       "2020-04-29                 0                 0                 0   \n",
       "2020-04-30                 0                 0                 0   \n",
       "\n",
       "            product_id_F674  product_id_F675  product_id_F676  \\\n",
       "date                                                            \n",
       "2020-03-11                0                0                0   \n",
       "2020-03-18                0                0                0   \n",
       "2020-03-23                0                0                0   \n",
       "2020-03-23                1                0                0   \n",
       "2020-03-24                0                0                0   \n",
       "...                     ...              ...              ...   \n",
       "2020-04-29                0                0                0   \n",
       "2020-04-29                0                0                0   \n",
       "2020-04-29                0                0                0   \n",
       "2020-04-29                0                0                0   \n",
       "2020-04-30                0                0                0   \n",
       "\n",
       "            product_id_F677  product_id_G335  product_id_G50  \n",
       "date                                                          \n",
       "2020-03-11                0                0               0  \n",
       "2020-03-18                0                0               0  \n",
       "2020-03-23                0                0               0  \n",
       "2020-03-23                0                0               0  \n",
       "2020-03-24                1                0               0  \n",
       "...                     ...              ...             ...  \n",
       "2020-04-29                0                0               0  \n",
       "2020-04-29                1                0               0  \n",
       "2020-04-29                0                0               0  \n",
       "2020-04-29                0                0               0  \n",
       "2020-04-30                1                0               0  \n",
       "\n",
       "[115 rows x 43 columns]"
      ]
     },
     "execution_count": 33,
     "metadata": {},
     "output_type": "execute_result"
    }
   ],
   "source": [
    "mobile_dict={}\n",
    "curr_data=get_dataset('Huawei nova 5T',mobile_dict)\n",
    "curr_data"
   ]
  },
  {
   "cell_type": "markdown",
   "metadata": {},
   "source": [
    "# Simple Linear Regression"
   ]
  },
  {
   "cell_type": "markdown",
   "metadata": {},
   "source": [
    ">Since total_review is the highly correlated with total_Sold"
   ]
  },
  {
   "cell_type": "code",
   "execution_count": 34,
   "metadata": {},
   "outputs": [],
   "source": [
    "X=curr_data['total_review'].values.astype(float)\n",
    "Y=curr_data['total_sold'].values.astype(float)"
   ]
  },
  {
   "cell_type": "code",
   "execution_count": 35,
   "metadata": {},
   "outputs": [],
   "source": [
    "from sklearn.model_selection import train_test_split\n",
    "X_train, X_test, y_train, y_test = train_test_split(X, Y, test_size = 1/3, random_state = 0)"
   ]
  },
  {
   "cell_type": "code",
   "execution_count": 36,
   "metadata": {},
   "outputs": [],
   "source": [
    "X_train=X_train.reshape(-1,1)\n",
    "y_train=y_train.reshape(-1,1)\n",
    "X_test=X_test.reshape(-1,1)\n",
    "y_test=y_test.reshape(-1,1)"
   ]
  },
  {
   "cell_type": "code",
   "execution_count": 37,
   "metadata": {},
   "outputs": [
    {
     "data": {
      "text/plain": [
       "LinearRegression()"
      ]
     },
     "execution_count": 37,
     "metadata": {},
     "output_type": "execute_result"
    }
   ],
   "source": [
    "\n",
    "from sklearn.linear_model import LinearRegression\n",
    "regressor = LinearRegression()\n",
    "regressor.fit(X_train, y_train)"
   ]
  },
  {
   "cell_type": "code",
   "execution_count": 38,
   "metadata": {},
   "outputs": [],
   "source": [
    "y_pred = regressor.predict(X_test)"
   ]
  },
  {
   "cell_type": "code",
   "execution_count": 39,
   "metadata": {},
   "outputs": [
    {
     "data": {
      "image/png": "[encoded data removed]",
      "text/plain": [
       "<Figure size 432x288 with 1 Axes>"
      ]
     },
     "metadata": {
      "needs_background": "light"
     },
     "output_type": "display_data"
    }
   ],
   "source": [
    "plt.scatter(X_train, y_train, color = 'red')\n",
    "plt.plot(X_train, regressor.predict(X_train), color = 'blue')\n",
    "plt.title('total_review vs total_sold')\n",
    "plt.xlabel('TOTAL REVIEW')\n",
    "plt.ylabel('TOTAL SOLD')\n",
    "plt.show()"
   ]
  },
  {
   "cell_type": "code",
   "execution_count": 40,
   "metadata": {},
   "outputs": [
    {
     "data": {
      "image/png": "[encoded data removed]",
      "text/plain": [
       "<Figure size 432x288 with 1 Axes>"
      ]
     },
     "metadata": {
      "needs_background": "light"
     },
     "output_type": "display_data"
    }
   ],
   "source": [
    "plt.scatter(X_test, y_test, color = 'yellow')\n",
    "plt.plot(X_train, regressor.predict(X_train), color = 'green')\n",
    "plt.title('total_review vs total_sold')\n",
    "plt.xlabel('TOTAL REVIEW')\n",
    "plt.ylabel('TOTAL SOLD')\n",
    "plt.show()"
   ]
  },
  {
   "cell_type": "code",
   "execution_count": 41,
   "metadata": {},
   "outputs": [
    {
     "data": {
      "text/plain": [
       "0.9824359693745011"
      ]
     },
     "execution_count": 41,
     "metadata": {},
     "output_type": "execute_result"
    }
   ],
   "source": [
    "from sklearn.metrics import r2_score\n",
    "r2_score(y_test, y_pred)"
   ]
  },
  {
   "cell_type": "code",
   "execution_count": 42,
   "metadata": {},
   "outputs": [
    {
     "data": {
      "text/plain": [
       "11.153096512578344"
      ]
     },
     "execution_count": 42,
     "metadata": {},
     "output_type": "execute_result"
    }
   ],
   "source": [
    "from sklearn.metrics import mean_absolute_error\n",
    "mean_absolute_error(y_test, y_pred)"
   ]
  },
  {
   "cell_type": "code",
   "execution_count": 43,
   "metadata": {},
   "outputs": [
    {
     "data": {
      "text/plain": [
       "247.21676809535302"
      ]
     },
     "execution_count": 43,
     "metadata": {},
     "output_type": "execute_result"
    }
   ],
   "source": [
    "from sklearn.metrics import mean_squared_error\n",
    "mean_squared_error(y_test, y_pred)"
   ]
  },
  {
   "cell_type": "markdown",
   "metadata": {},
   "source": [
    "# Multiple Linear Regression"
   ]
  },
  {
   "cell_type": "code",
   "execution_count": 44,
   "metadata": {},
   "outputs": [],
   "source": [
    "X=curr_data.copy()\n",
    "X.drop(['total_sold'],axis=1,inplace=True)\n",
    "Y=curr_data['total_sold'].values.astype(float)"
   ]
  },
  {
   "cell_type": "code",
   "execution_count": 45,
   "metadata": {},
   "outputs": [],
   "source": [
    "X_train, X_test, y_train, y_test = train_test_split(X, Y, test_size = 0.2, random_state = 0)"
   ]
  },
  {
   "cell_type": "code",
   "execution_count": 46,
   "metadata": {},
   "outputs": [
    {
     "data": {
      "text/plain": [
       "LinearRegression()"
      ]
     },
     "execution_count": 46,
     "metadata": {},
     "output_type": "execute_result"
    }
   ],
   "source": [
    "regressor = LinearRegression()\n",
    "regressor.fit(X_train, y_train)"
   ]
  },
  {
   "cell_type": "code",
   "execution_count": 47,
   "metadata": {},
   "outputs": [],
   "source": [
    "y_pred = regressor.predict(X_test)"
   ]
  },
  {
   "cell_type": "code",
   "execution_count": 48,
   "metadata": {},
   "outputs": [
    {
     "data": {
      "text/plain": [
       "0.9965959424540457"
      ]
     },
     "execution_count": 48,
     "metadata": {},
     "output_type": "execute_result"
    }
   ],
   "source": [
    "r2_score(y_test, y_pred)"
   ]
  },
  {
   "cell_type": "code",
   "execution_count": 49,
   "metadata": {},
   "outputs": [
    {
     "data": {
      "text/plain": [
       "4.709507713123398"
      ]
     },
     "execution_count": 49,
     "metadata": {},
     "output_type": "execute_result"
    }
   ],
   "source": [
    "mean_absolute_error(y_test, y_pred)"
   ]
  },
  {
   "cell_type": "code",
   "execution_count": 50,
   "metadata": {},
   "outputs": [
    {
     "data": {
      "text/plain": [
       "42.26709505146962"
      ]
     },
     "execution_count": 50,
     "metadata": {},
     "output_type": "execute_result"
    }
   ],
   "source": [
    "mean_squared_error(y_test, y_pred)"
   ]
  },
  {
   "cell_type": "code",
   "execution_count": 54,
   "metadata": {},
   "outputs": [
    {
     "name": "stdout",
     "output_type": "stream",
     "text": [
      "[[ 17.94  26.  ]\n",
      " [175.67 175.  ]\n",
      " [ 71.12  75.  ]\n",
      " [ 91.64  82.  ]\n",
      " [ 61.64  61.  ]\n",
      " [289.59 290.  ]\n",
      " [530.83 523.  ]\n",
      " [163.74 159.  ]\n",
      " [ 93.01  86.  ]\n",
      " [ 61.75  59.  ]\n",
      " [ 42.59  45.  ]\n",
      " [ 20.67  19.  ]\n",
      " [ 57.24  57.  ]\n",
      " [ 27.17  27.  ]\n",
      " [ 46.62  54.  ]\n",
      " [ 37.49  21.  ]\n",
      " [ 60.83  56.  ]\n",
      " [ 47.63  60.  ]\n",
      " [154.83 153.  ]\n",
      " [154.89 153.  ]\n",
      " [161.45 163.  ]\n",
      " [ 22.15  22.  ]\n",
      " [ 24.7   13.  ]]\n"
     ]
    }
   ],
   "source": [
    "np.set_printoptions(precision=2)\n",
    "print(np.concatenate((y_pred.reshape(len(y_pred),1), y_test.reshape(len(y_test),1)),1))"
   ]
  },
  {
   "cell_type": "code",
   "execution_count": 60,
   "metadata": {},
   "outputs": [
    {
     "data": {
      "image/png": "[encoded data removed]",
      "text/plain": [
       "<Figure size 2400x1600 with 1 Axes>"
      ]
     },
     "metadata": {},
     "output_type": "display_data"
    }
   ],
   "source": [
    "from matplotlib.pyplot import figure\n",
    "figure(num=None, figsize=(15, 10), dpi=160, facecolor='w', edgecolor='k')\n",
    "\n",
    "plt.bar(y_pred,y_test)\n",
    "plt.xlabel('Predicted value')\n",
    "plt.ylabel('actual value')\n",
    "plt.show()"
   ]
  },
  {
   "cell_type": "markdown",
   "metadata": {},
   "source": [
    "# Random Forest"
   ]
  },
  {
   "cell_type": "code",
   "execution_count": 61,
   "metadata": {},
   "outputs": [],
   "source": [
    "from sklearn.ensemble import RandomForestRegressor\n",
    "regressor = RandomForestRegressor(n_estimators = 100, random_state = 0)"
   ]
  },
  {
   "cell_type": "code",
   "execution_count": 62,
   "metadata": {},
   "outputs": [
    {
     "data": {
      "text/plain": [
       "RandomForestRegressor(n_estimators=10, random_state=0)"
      ]
     },
     "execution_count": 62,
     "metadata": {},
     "output_type": "execute_result"
    }
   ],
   "source": [
    "regressor.fit(X_train, y_train)"
   ]
  },
  {
   "cell_type": "code",
   "execution_count": 63,
   "metadata": {},
   "outputs": [],
   "source": [
    "y_pred = regressor.predict(X_test)"
   ]
  },
  {
   "cell_type": "code",
   "execution_count": 64,
   "metadata": {},
   "outputs": [
    {
     "data": {
      "text/plain": [
       "0.9892811441526917"
      ]
     },
     "execution_count": 64,
     "metadata": {},
     "output_type": "execute_result"
    }
   ],
   "source": [
    "r2_score(y_test, y_pred)"
   ]
  },
  {
   "cell_type": "code",
   "execution_count": null,
   "metadata": {},
   "outputs": [],
   "source": [
    "mean_absolute_error(y_test, y_pred)"
   ]
  }
 ],
 "metadata": {
  "kernelspec": {
   "display_name": "Python 3",
   "language": "python",
   "name": "python3"
  },
  "language_info": {
   "codemirror_mode": {
    "name": "ipython",
    "version": 3
   },
   "file_extension": ".py",
   "mimetype": "text/x-python",
   "name": "python",
   "nbconvert_exporter": "python",
   "pygments_lexer": "ipython3",
   "version": "3.8.5"
  }
 },
 "nbformat": 4,
 "nbformat_minor": 4
}
